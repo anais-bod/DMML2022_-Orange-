{
  "cells": [
    {
      "cell_type": "markdown",
      "metadata": {
        "id": "view-in-github",
        "colab_type": "text"
      },
      "source": [
        "<a href=\"https://colab.research.google.com/github/anais-bod/DMML2022_-Orange-/blob/main/UNIL_Orange.ipynb\" target=\"_parent\"><img src=\"https://colab.research.google.com/assets/colab-badge.svg\" alt=\"Open In Colab\"/></a>"
      ]
    },
    {
      "cell_type": "markdown",
      "metadata": {
        "id": "8ZKqCFFbNZ04"
      },
      "source": [
        "# Data Mining and Machine Learning - Project\n",
        "\n",
        "## Detecting Difficulty Level of French Texts\n",
        "\n",
        "### Step by step guidelines\n",
        "\n",
        "The following are a set of step by step guidelines to help you get started with your project for the Data Mining and Machine Learning class. \n",
        "To test what you learned in the class, we will hold a competition. You will create a classifier that predicts how the level of some text in French (A1,..., C2). The team with the highest rank will get some goodies in the last class (some souvenirs from tech companies: Amazon, LinkedIn, etc).\n",
        "\n",
        "**2 people per team**\n",
        "\n",
        "Choose a team here:\n",
        "https://moodle.unil.ch/mod/choicegroup/view.php?id=1305831\n",
        "\n",
        "\n",
        "#### 1. 📂 Create a public GitHub repository for your team using this naming convention `DMML2022_[your_team_name]` with the following structure:\n",
        "- data (folder) \n",
        "- code (folder) \n",
        "- documentation (folder)\n",
        "- a readme file (.md): *mention team name, participants, brief description of the project, approach, summary of results table and link to the explainatory video (see below).*\n",
        "\n",
        "All team members should contribute to the GitHub repository.\n",
        "\n",
        "#### 2. 🇰 Join the competititon on Kaggle using the invitation link we sent on Slack.\n",
        "\n",
        "Under the Team tab, save your team name (`UNIL_your_team_name`) and make sure your team members join in as well. You can merge your user account with your teammates in order to create a team.\n",
        "\n",
        "#### 3. 📓 Read the data into your colab notebook. There should be one code notebook per team, but all team members can participate and contribute code. \n",
        "\n",
        "You can use either direct the Kaggle API and your Kaggle credentials (as explained below and **entirely optional**), or dowload the data form Kaggle and upload it onto your team's GitHub repository under the data subfolder.\n",
        "\n",
        "#### 4. 💎 Train your models and upload the code under your team's GitHub repo. Set the `random_state=0`.\n",
        "- baseline\n",
        "- logistic regression with TFidf vectoriser (simple, no data cleaning)\n",
        "- KNN & hyperparameter optimisation (simple, no data cleaning)\n",
        "- Decision Tree classifier & hyperparameter optimisation (simple, no data cleaning)\n",
        "- Random Forests classifier (simple, no data cleaning)\n",
        "- another technique or combination of techniques of your choice\n",
        "\n",
        "BE CREATIVE! You can use whatever method you want, in order to climb the leaderboard. The only rule is that it must be your own work. Given that, you can use all the online resources you want. \n",
        "\n",
        "#### 5. 🎥 Create a YouTube video (5-10 minutes) of your solution and embed it in your notebook. Explain the algorithms used and the evaluation of your solutions. *Select* projects will also be presented live by the group during the last class.\n",
        "\n",
        "\n",
        "### Submission details (one per team)\n",
        "\n",
        "1. Download a ZIPped file of your team's repository and submit it in Moodle here. IMPORTANT: in the comment of the submission, insert a link to the repository on Github.\n",
        "https://moodle.unil.ch/mod/assign/view.php?id=1305833\n",
        "\n",
        "\n",
        "\n",
        "### Grading (one per team)\n",
        "- 20% Kaggle Rank\n",
        "- 50% code quality (using classes, splitting into proper files, documentation, etc)\n",
        "- 15% github quality (include link to video, table with progress over time, organization of code, images, etc)\n",
        "- 15% video quality (good sound, good slides, interesting presentation)."
      ]
    },
    {
      "cell_type": "markdown",
      "metadata": {
        "id": "9-14CAdOoinM"
      },
      "source": [
        "### 3. Read data into your notebook with the Kaggle API (optional but useful). \n",
        "\n",
        "You can also download the data from Kaggle and put it in your team's repo the data folder."
      ]
    },
    {
      "cell_type": "code",
      "execution_count": null,
      "metadata": {
        "id": "UJ_hnJzSNO2g",
        "colab": {
          "base_uri": "https://localhost:8080/"
        },
        "outputId": "fcade080-8e41-41cd-93be-861f3ca7da1b"
      },
      "outputs": [
        {
          "output_type": "stream",
          "name": "stdout",
          "text": [
            "Mounted at /content/drive\n"
          ]
        }
      ],
      "source": [
        "# reading in the data via the Kaggle API\n",
        "\n",
        "# mount your Google Drive\n",
        "from google.colab import drive\n",
        "drive.mount('/content/drive', force_remount=True)"
      ]
    },
    {
      "cell_type": "code",
      "execution_count": null,
      "metadata": {
        "id": "mJPTz3D7TeQv",
        "colab": {
          "base_uri": "https://localhost:8080/"
        },
        "outputId": "eec229f3-3858-4f16-bfc1-4dde69af23cd"
      },
      "outputs": [
        {
          "output_type": "stream",
          "name": "stdout",
          "text": [
            "Looking in indexes: https://pypi.org/simple, https://us-python.pkg.dev/colab-wheels/public/simple/\n",
            "Requirement already satisfied: kaggle in /usr/local/lib/python3.8/dist-packages (1.5.12)\n",
            "Requirement already satisfied: certifi in /usr/local/lib/python3.8/dist-packages (from kaggle) (2022.12.7)\n",
            "Requirement already satisfied: six>=1.10 in /usr/local/lib/python3.8/dist-packages (from kaggle) (1.15.0)\n",
            "Requirement already satisfied: python-slugify in /usr/local/lib/python3.8/dist-packages (from kaggle) (7.0.0)\n",
            "Requirement already satisfied: urllib3 in /usr/local/lib/python3.8/dist-packages (from kaggle) (1.24.3)\n",
            "Requirement already satisfied: python-dateutil in /usr/local/lib/python3.8/dist-packages (from kaggle) (2.8.2)\n",
            "Requirement already satisfied: requests in /usr/local/lib/python3.8/dist-packages (from kaggle) (2.23.0)\n",
            "Requirement already satisfied: tqdm in /usr/local/lib/python3.8/dist-packages (from kaggle) (4.64.1)\n",
            "Requirement already satisfied: text-unidecode>=1.3 in /usr/local/lib/python3.8/dist-packages (from python-slugify->kaggle) (1.3)\n",
            "Requirement already satisfied: idna<3,>=2.5 in /usr/local/lib/python3.8/dist-packages (from requests->kaggle) (2.10)\n",
            "Requirement already satisfied: chardet<4,>=3.0.2 in /usr/local/lib/python3.8/dist-packages (from requests->kaggle) (3.0.4)\n"
          ]
        }
      ],
      "source": [
        "# install Kaggle\n",
        "! pip install kaggle"
      ]
    },
    {
      "cell_type": "markdown",
      "metadata": {
        "id": "ZKG1TCddRYTB"
      },
      "source": [
        "**IMPORTANT**  \n",
        "Log into your Kaggle account, go to Account > API > Create new API token. You will obtain a kaggle.json file. Save it in your Google Drive (not in a folder, in your general drive)."
      ]
    },
    {
      "cell_type": "code",
      "execution_count": null,
      "metadata": {
        "id": "JgzLj451YDfV"
      },
      "outputs": [],
      "source": [
        "!mkdir ~/.kaggle"
      ]
    },
    {
      "cell_type": "code",
      "execution_count": null,
      "metadata": {
        "id": "KrsZLalrSI3u",
        "colab": {
          "base_uri": "https://localhost:8080/"
        },
        "outputId": "71f81e15-c1ff-4117-ef16-8b3c6bf9108f"
      },
      "outputs": [
        {
          "output_type": "stream",
          "name": "stdout",
          "text": [
            "cp: cannot stat '/content/drive/MyDrive/kaggle.json': No such file or directory\n"
          ]
        }
      ],
      "source": [
        "#read in your Kaggle credentials from Google Drive\n",
        "!cp /content/drive/MyDrive/kaggle.json ~/.kaggle/kaggle.json"
      ]
    },
    {
      "cell_type": "code",
      "execution_count": null,
      "metadata": {
        "id": "nMPferkwj2ac"
      },
      "outputs": [],
      "source": [
        "!mkdir data"
      ]
    },
    {
      "cell_type": "code",
      "execution_count": null,
      "metadata": {
        "colab": {
          "base_uri": "https://localhost:8080/"
        },
        "id": "BDI60LXKTPzf",
        "outputId": "54e438de-c882-4f4b-ab35-2ec3388aff9f"
      },
      "outputs": [
        {
          "output_type": "stream",
          "name": "stdout",
          "text": [
            "Traceback (most recent call last):\n",
            "  File \"/usr/local/bin/kaggle\", line 5, in <module>\n",
            "    from kaggle.cli import main\n",
            "  File \"/usr/local/lib/python3.8/dist-packages/kaggle/__init__.py\", line 23, in <module>\n",
            "    api.authenticate()\n",
            "  File \"/usr/local/lib/python3.8/dist-packages/kaggle/api/kaggle_api_extended.py\", line 164, in authenticate\n",
            "    raise IOError('Could not find {}. Make sure it\\'s located in'\n",
            "OSError: Could not find kaggle.json. Make sure it's located in /root/.kaggle. Or use the environment method.\n"
          ]
        }
      ],
      "source": [
        "# download the dataset from the competition page\n",
        "! kaggle competitions download -c detecting-french-texts-difficulty-level-2022"
      ]
    },
    {
      "cell_type": "code",
      "execution_count": null,
      "metadata": {
        "id": "M78F2Oe4j2ag",
        "colab": {
          "base_uri": "https://localhost:8080/"
        },
        "outputId": "37061d71-c7e0-4965-c2d8-c3e23959c7cd"
      },
      "outputs": [
        {
          "output_type": "stream",
          "name": "stdout",
          "text": [
            "unzip:  cannot find or open detecting-french-texts-difficulty-level-2022.zip, detecting-french-texts-difficulty-level-2022.zip.zip or detecting-french-texts-difficulty-level-2022.zip.ZIP.\n"
          ]
        }
      ],
      "source": [
        "!unzip \"detecting-french-texts-difficulty-level-2022.zip\" -d data"
      ]
    },
    {
      "cell_type": "markdown",
      "source": [
        "**Loading of data**"
      ],
      "metadata": {
        "id": "zvFLzb95suB1"
      }
    },
    {
      "cell_type": "code",
      "execution_count": null,
      "metadata": {
        "id": "daqvj7feTx60"
      },
      "outputs": [],
      "source": [
        "# read in your training data\n",
        "import pandas as pd\n",
        "import numpy as np\n",
        "\n",
        "df = pd.read_csv('/content/training_data.csv')\n",
        "df_pred = pd.read_csv('/content/unlabelled_test_data.csv')"
      ]
    },
    {
      "cell_type": "markdown",
      "metadata": {
        "id": "1kpfbtndj0jL"
      },
      "source": [
        "**Have a look on our data** "
      ]
    },
    {
      "cell_type": "code",
      "execution_count": null,
      "metadata": {
        "id": "7G75Q1gRj49l",
        "colab": {
          "base_uri": "https://localhost:8080/",
          "height": 206
        },
        "outputId": "0665b22b-b405-4eca-a636-3ea4659299b5"
      },
      "outputs": [
        {
          "output_type": "execute_result",
          "data": {
            "text/plain": [
              "   id                                           sentence difficulty\n",
              "0   0  Les coûts kilométriques réels peuvent diverger...         C1\n",
              "1   1  Le bleu, c'est ma couleur préférée mais je n'a...         A1\n",
              "2   2  Le test de niveau en français est sur le site ...         A1\n",
              "3   3           Est-ce que ton mari est aussi de Boston?         A1\n",
              "4   4  Dans les écoles de commerce, dans les couloirs...         B1"
            ],
            "text/html": [
              "\n",
              "  <div id=\"df-a76db799-9b7e-4fb1-bcc2-87ba13e76946\">\n",
              "    <div class=\"colab-df-container\">\n",
              "      <div>\n",
              "<style scoped>\n",
              "    .dataframe tbody tr th:only-of-type {\n",
              "        vertical-align: middle;\n",
              "    }\n",
              "\n",
              "    .dataframe tbody tr th {\n",
              "        vertical-align: top;\n",
              "    }\n",
              "\n",
              "    .dataframe thead th {\n",
              "        text-align: right;\n",
              "    }\n",
              "</style>\n",
              "<table border=\"1\" class=\"dataframe\">\n",
              "  <thead>\n",
              "    <tr style=\"text-align: right;\">\n",
              "      <th></th>\n",
              "      <th>id</th>\n",
              "      <th>sentence</th>\n",
              "      <th>difficulty</th>\n",
              "    </tr>\n",
              "  </thead>\n",
              "  <tbody>\n",
              "    <tr>\n",
              "      <th>0</th>\n",
              "      <td>0</td>\n",
              "      <td>Les coûts kilométriques réels peuvent diverger...</td>\n",
              "      <td>C1</td>\n",
              "    </tr>\n",
              "    <tr>\n",
              "      <th>1</th>\n",
              "      <td>1</td>\n",
              "      <td>Le bleu, c'est ma couleur préférée mais je n'a...</td>\n",
              "      <td>A1</td>\n",
              "    </tr>\n",
              "    <tr>\n",
              "      <th>2</th>\n",
              "      <td>2</td>\n",
              "      <td>Le test de niveau en français est sur le site ...</td>\n",
              "      <td>A1</td>\n",
              "    </tr>\n",
              "    <tr>\n",
              "      <th>3</th>\n",
              "      <td>3</td>\n",
              "      <td>Est-ce que ton mari est aussi de Boston?</td>\n",
              "      <td>A1</td>\n",
              "    </tr>\n",
              "    <tr>\n",
              "      <th>4</th>\n",
              "      <td>4</td>\n",
              "      <td>Dans les écoles de commerce, dans les couloirs...</td>\n",
              "      <td>B1</td>\n",
              "    </tr>\n",
              "  </tbody>\n",
              "</table>\n",
              "</div>\n",
              "      <button class=\"colab-df-convert\" onclick=\"convertToInteractive('df-a76db799-9b7e-4fb1-bcc2-87ba13e76946')\"\n",
              "              title=\"Convert this dataframe to an interactive table.\"\n",
              "              style=\"display:none;\">\n",
              "        \n",
              "  <svg xmlns=\"http://www.w3.org/2000/svg\" height=\"24px\"viewBox=\"0 0 24 24\"\n",
              "       width=\"24px\">\n",
              "    <path d=\"M0 0h24v24H0V0z\" fill=\"none\"/>\n",
              "    <path d=\"M18.56 5.44l.94 2.06.94-2.06 2.06-.94-2.06-.94-.94-2.06-.94 2.06-2.06.94zm-11 1L8.5 8.5l.94-2.06 2.06-.94-2.06-.94L8.5 2.5l-.94 2.06-2.06.94zm10 10l.94 2.06.94-2.06 2.06-.94-2.06-.94-.94-2.06-.94 2.06-2.06.94z\"/><path d=\"M17.41 7.96l-1.37-1.37c-.4-.4-.92-.59-1.43-.59-.52 0-1.04.2-1.43.59L10.3 9.45l-7.72 7.72c-.78.78-.78 2.05 0 2.83L4 21.41c.39.39.9.59 1.41.59.51 0 1.02-.2 1.41-.59l7.78-7.78 2.81-2.81c.8-.78.8-2.07 0-2.86zM5.41 20L4 18.59l7.72-7.72 1.47 1.35L5.41 20z\"/>\n",
              "  </svg>\n",
              "      </button>\n",
              "      \n",
              "  <style>\n",
              "    .colab-df-container {\n",
              "      display:flex;\n",
              "      flex-wrap:wrap;\n",
              "      gap: 12px;\n",
              "    }\n",
              "\n",
              "    .colab-df-convert {\n",
              "      background-color: #E8F0FE;\n",
              "      border: none;\n",
              "      border-radius: 50%;\n",
              "      cursor: pointer;\n",
              "      display: none;\n",
              "      fill: #1967D2;\n",
              "      height: 32px;\n",
              "      padding: 0 0 0 0;\n",
              "      width: 32px;\n",
              "    }\n",
              "\n",
              "    .colab-df-convert:hover {\n",
              "      background-color: #E2EBFA;\n",
              "      box-shadow: 0px 1px 2px rgba(60, 64, 67, 0.3), 0px 1px 3px 1px rgba(60, 64, 67, 0.15);\n",
              "      fill: #174EA6;\n",
              "    }\n",
              "\n",
              "    [theme=dark] .colab-df-convert {\n",
              "      background-color: #3B4455;\n",
              "      fill: #D2E3FC;\n",
              "    }\n",
              "\n",
              "    [theme=dark] .colab-df-convert:hover {\n",
              "      background-color: #434B5C;\n",
              "      box-shadow: 0px 1px 3px 1px rgba(0, 0, 0, 0.15);\n",
              "      filter: drop-shadow(0px 1px 2px rgba(0, 0, 0, 0.3));\n",
              "      fill: #FFFFFF;\n",
              "    }\n",
              "  </style>\n",
              "\n",
              "      <script>\n",
              "        const buttonEl =\n",
              "          document.querySelector('#df-a76db799-9b7e-4fb1-bcc2-87ba13e76946 button.colab-df-convert');\n",
              "        buttonEl.style.display =\n",
              "          google.colab.kernel.accessAllowed ? 'block' : 'none';\n",
              "\n",
              "        async function convertToInteractive(key) {\n",
              "          const element = document.querySelector('#df-a76db799-9b7e-4fb1-bcc2-87ba13e76946');\n",
              "          const dataTable =\n",
              "            await google.colab.kernel.invokeFunction('convertToInteractive',\n",
              "                                                     [key], {});\n",
              "          if (!dataTable) return;\n",
              "\n",
              "          const docLinkHtml = 'Like what you see? Visit the ' +\n",
              "            '<a target=\"_blank\" href=https://colab.research.google.com/notebooks/data_table.ipynb>data table notebook</a>'\n",
              "            + ' to learn more about interactive tables.';\n",
              "          element.innerHTML = '';\n",
              "          dataTable['output_type'] = 'display_data';\n",
              "          await google.colab.output.renderOutput(dataTable, element);\n",
              "          const docLink = document.createElement('div');\n",
              "          docLink.innerHTML = docLinkHtml;\n",
              "          element.appendChild(docLink);\n",
              "        }\n",
              "      </script>\n",
              "    </div>\n",
              "  </div>\n",
              "  "
            ]
          },
          "metadata": {},
          "execution_count": 9
        }
      ],
      "source": [
        "df.head()"
      ]
    },
    {
      "cell_type": "code",
      "source": [
        "df.shape"
      ],
      "metadata": {
        "id": "Nc4cqZD0KVal",
        "colab": {
          "base_uri": "https://localhost:8080/"
        },
        "outputId": "e9c9e39e-0ef7-41d2-fedd-bcc40f7356d6"
      },
      "execution_count": null,
      "outputs": [
        {
          "output_type": "execute_result",
          "data": {
            "text/plain": [
              "(4800, 3)"
            ]
          },
          "metadata": {},
          "execution_count": 10
        }
      ]
    },
    {
      "cell_type": "code",
      "source": [
        "df.isnull().sum()"
      ],
      "metadata": {
        "id": "ww02N3PHKXmZ",
        "colab": {
          "base_uri": "https://localhost:8080/"
        },
        "outputId": "e37b821f-d214-47ff-a594-27a713f49a91"
      },
      "execution_count": null,
      "outputs": [
        {
          "output_type": "execute_result",
          "data": {
            "text/plain": [
              "id            0\n",
              "sentence      0\n",
              "difficulty    0\n",
              "dtype: int64"
            ]
          },
          "metadata": {},
          "execution_count": 11
        }
      ]
    },
    {
      "cell_type": "markdown",
      "metadata": {
        "id": "a37hWJ_ckBlk"
      },
      "source": [
        "It seems that our data are quite clean."
      ]
    },
    {
      "cell_type": "code",
      "source": [
        "df_pred.head()"
      ],
      "metadata": {
        "id": "7XMQdzBXH0aq",
        "colab": {
          "base_uri": "https://localhost:8080/",
          "height": 206
        },
        "outputId": "4dace4bb-e78a-438a-d934-b559cf0c6cff"
      },
      "execution_count": null,
      "outputs": [
        {
          "output_type": "execute_result",
          "data": {
            "text/plain": [
              "   id                                           sentence\n",
              "0   0  Nous dûmes nous excuser des propos que nous eû...\n",
              "1   1  Vous ne pouvez pas savoir le plaisir que j'ai ...\n",
              "2   2  Et, paradoxalement, boire froid n'est pas la b...\n",
              "3   3  Ce n'est pas étonnant, car c'est une saison my...\n",
              "4   4  Le corps de Golo lui-même, d'une essence aussi..."
            ],
            "text/html": [
              "\n",
              "  <div id=\"df-2e26b9a8-313f-400e-b0ba-57e7ac9b1ea6\">\n",
              "    <div class=\"colab-df-container\">\n",
              "      <div>\n",
              "<style scoped>\n",
              "    .dataframe tbody tr th:only-of-type {\n",
              "        vertical-align: middle;\n",
              "    }\n",
              "\n",
              "    .dataframe tbody tr th {\n",
              "        vertical-align: top;\n",
              "    }\n",
              "\n",
              "    .dataframe thead th {\n",
              "        text-align: right;\n",
              "    }\n",
              "</style>\n",
              "<table border=\"1\" class=\"dataframe\">\n",
              "  <thead>\n",
              "    <tr style=\"text-align: right;\">\n",
              "      <th></th>\n",
              "      <th>id</th>\n",
              "      <th>sentence</th>\n",
              "    </tr>\n",
              "  </thead>\n",
              "  <tbody>\n",
              "    <tr>\n",
              "      <th>0</th>\n",
              "      <td>0</td>\n",
              "      <td>Nous dûmes nous excuser des propos que nous eû...</td>\n",
              "    </tr>\n",
              "    <tr>\n",
              "      <th>1</th>\n",
              "      <td>1</td>\n",
              "      <td>Vous ne pouvez pas savoir le plaisir que j'ai ...</td>\n",
              "    </tr>\n",
              "    <tr>\n",
              "      <th>2</th>\n",
              "      <td>2</td>\n",
              "      <td>Et, paradoxalement, boire froid n'est pas la b...</td>\n",
              "    </tr>\n",
              "    <tr>\n",
              "      <th>3</th>\n",
              "      <td>3</td>\n",
              "      <td>Ce n'est pas étonnant, car c'est une saison my...</td>\n",
              "    </tr>\n",
              "    <tr>\n",
              "      <th>4</th>\n",
              "      <td>4</td>\n",
              "      <td>Le corps de Golo lui-même, d'une essence aussi...</td>\n",
              "    </tr>\n",
              "  </tbody>\n",
              "</table>\n",
              "</div>\n",
              "      <button class=\"colab-df-convert\" onclick=\"convertToInteractive('df-2e26b9a8-313f-400e-b0ba-57e7ac9b1ea6')\"\n",
              "              title=\"Convert this dataframe to an interactive table.\"\n",
              "              style=\"display:none;\">\n",
              "        \n",
              "  <svg xmlns=\"http://www.w3.org/2000/svg\" height=\"24px\"viewBox=\"0 0 24 24\"\n",
              "       width=\"24px\">\n",
              "    <path d=\"M0 0h24v24H0V0z\" fill=\"none\"/>\n",
              "    <path d=\"M18.56 5.44l.94 2.06.94-2.06 2.06-.94-2.06-.94-.94-2.06-.94 2.06-2.06.94zm-11 1L8.5 8.5l.94-2.06 2.06-.94-2.06-.94L8.5 2.5l-.94 2.06-2.06.94zm10 10l.94 2.06.94-2.06 2.06-.94-2.06-.94-.94-2.06-.94 2.06-2.06.94z\"/><path d=\"M17.41 7.96l-1.37-1.37c-.4-.4-.92-.59-1.43-.59-.52 0-1.04.2-1.43.59L10.3 9.45l-7.72 7.72c-.78.78-.78 2.05 0 2.83L4 21.41c.39.39.9.59 1.41.59.51 0 1.02-.2 1.41-.59l7.78-7.78 2.81-2.81c.8-.78.8-2.07 0-2.86zM5.41 20L4 18.59l7.72-7.72 1.47 1.35L5.41 20z\"/>\n",
              "  </svg>\n",
              "      </button>\n",
              "      \n",
              "  <style>\n",
              "    .colab-df-container {\n",
              "      display:flex;\n",
              "      flex-wrap:wrap;\n",
              "      gap: 12px;\n",
              "    }\n",
              "\n",
              "    .colab-df-convert {\n",
              "      background-color: #E8F0FE;\n",
              "      border: none;\n",
              "      border-radius: 50%;\n",
              "      cursor: pointer;\n",
              "      display: none;\n",
              "      fill: #1967D2;\n",
              "      height: 32px;\n",
              "      padding: 0 0 0 0;\n",
              "      width: 32px;\n",
              "    }\n",
              "\n",
              "    .colab-df-convert:hover {\n",
              "      background-color: #E2EBFA;\n",
              "      box-shadow: 0px 1px 2px rgba(60, 64, 67, 0.3), 0px 1px 3px 1px rgba(60, 64, 67, 0.15);\n",
              "      fill: #174EA6;\n",
              "    }\n",
              "\n",
              "    [theme=dark] .colab-df-convert {\n",
              "      background-color: #3B4455;\n",
              "      fill: #D2E3FC;\n",
              "    }\n",
              "\n",
              "    [theme=dark] .colab-df-convert:hover {\n",
              "      background-color: #434B5C;\n",
              "      box-shadow: 0px 1px 3px 1px rgba(0, 0, 0, 0.15);\n",
              "      filter: drop-shadow(0px 1px 2px rgba(0, 0, 0, 0.3));\n",
              "      fill: #FFFFFF;\n",
              "    }\n",
              "  </style>\n",
              "\n",
              "      <script>\n",
              "        const buttonEl =\n",
              "          document.querySelector('#df-2e26b9a8-313f-400e-b0ba-57e7ac9b1ea6 button.colab-df-convert');\n",
              "        buttonEl.style.display =\n",
              "          google.colab.kernel.accessAllowed ? 'block' : 'none';\n",
              "\n",
              "        async function convertToInteractive(key) {\n",
              "          const element = document.querySelector('#df-2e26b9a8-313f-400e-b0ba-57e7ac9b1ea6');\n",
              "          const dataTable =\n",
              "            await google.colab.kernel.invokeFunction('convertToInteractive',\n",
              "                                                     [key], {});\n",
              "          if (!dataTable) return;\n",
              "\n",
              "          const docLinkHtml = 'Like what you see? Visit the ' +\n",
              "            '<a target=\"_blank\" href=https://colab.research.google.com/notebooks/data_table.ipynb>data table notebook</a>'\n",
              "            + ' to learn more about interactive tables.';\n",
              "          element.innerHTML = '';\n",
              "          dataTable['output_type'] = 'display_data';\n",
              "          await google.colab.output.renderOutput(dataTable, element);\n",
              "          const docLink = document.createElement('div');\n",
              "          docLink.innerHTML = docLinkHtml;\n",
              "          element.appendChild(docLink);\n",
              "        }\n",
              "      </script>\n",
              "    </div>\n",
              "  </div>\n",
              "  "
            ]
          },
          "metadata": {},
          "execution_count": 12
        }
      ]
    },
    {
      "cell_type": "markdown",
      "source": [
        "**Preparation of data for classification**"
      ],
      "metadata": {
        "id": "vtdnTQhS6Wcf"
      }
    },
    {
      "cell_type": "code",
      "source": [
        "#download last version of spacy\n",
        "!pip install -U spacy"
      ],
      "metadata": {
        "id": "P85BMMKenJOJ",
        "colab": {
          "base_uri": "https://localhost:8080/"
        },
        "outputId": "128d3b8b-6a10-4e94-ab57-812df22e59ef"
      },
      "execution_count": null,
      "outputs": [
        {
          "output_type": "stream",
          "name": "stdout",
          "text": [
            "Looking in indexes: https://pypi.org/simple, https://us-python.pkg.dev/colab-wheels/public/simple/\n",
            "Requirement already satisfied: spacy in /usr/local/lib/python3.8/dist-packages (3.4.4)\n",
            "Requirement already satisfied: spacy-loggers<2.0.0,>=1.0.0 in /usr/local/lib/python3.8/dist-packages (from spacy) (1.0.4)\n",
            "Requirement already satisfied: jinja2 in /usr/local/lib/python3.8/dist-packages (from spacy) (2.11.3)\n",
            "Requirement already satisfied: murmurhash<1.1.0,>=0.28.0 in /usr/local/lib/python3.8/dist-packages (from spacy) (1.0.9)\n",
            "Requirement already satisfied: cymem<2.1.0,>=2.0.2 in /usr/local/lib/python3.8/dist-packages (from spacy) (2.0.7)\n",
            "Requirement already satisfied: packaging>=20.0 in /usr/local/lib/python3.8/dist-packages (from spacy) (21.3)\n",
            "Requirement already satisfied: setuptools in /usr/local/lib/python3.8/dist-packages (from spacy) (57.4.0)\n",
            "Requirement already satisfied: wasabi<1.1.0,>=0.9.1 in /usr/local/lib/python3.8/dist-packages (from spacy) (0.10.1)\n",
            "Requirement already satisfied: spacy-legacy<3.1.0,>=3.0.10 in /usr/local/lib/python3.8/dist-packages (from spacy) (3.0.10)\n",
            "Requirement already satisfied: pydantic!=1.8,!=1.8.1,<1.11.0,>=1.7.4 in /usr/local/lib/python3.8/dist-packages (from spacy) (1.10.2)\n",
            "Requirement already satisfied: requests<3.0.0,>=2.13.0 in /usr/local/lib/python3.8/dist-packages (from spacy) (2.23.0)\n",
            "Requirement already satisfied: numpy>=1.15.0 in /usr/local/lib/python3.8/dist-packages (from spacy) (1.21.6)\n",
            "Requirement already satisfied: srsly<3.0.0,>=2.4.3 in /usr/local/lib/python3.8/dist-packages (from spacy) (2.4.5)\n",
            "Requirement already satisfied: preshed<3.1.0,>=3.0.2 in /usr/local/lib/python3.8/dist-packages (from spacy) (3.0.8)\n",
            "Requirement already satisfied: typer<0.8.0,>=0.3.0 in /usr/local/lib/python3.8/dist-packages (from spacy) (0.7.0)\n",
            "Requirement already satisfied: pathy>=0.3.5 in /usr/local/lib/python3.8/dist-packages (from spacy) (0.10.1)\n",
            "Requirement already satisfied: tqdm<5.0.0,>=4.38.0 in /usr/local/lib/python3.8/dist-packages (from spacy) (4.64.1)\n",
            "Requirement already satisfied: langcodes<4.0.0,>=3.2.0 in /usr/local/lib/python3.8/dist-packages (from spacy) (3.3.0)\n",
            "Requirement already satisfied: smart-open<7.0.0,>=5.2.1 in /usr/local/lib/python3.8/dist-packages (from spacy) (6.3.0)\n",
            "Requirement already satisfied: thinc<8.2.0,>=8.1.0 in /usr/local/lib/python3.8/dist-packages (from spacy) (8.1.5)\n",
            "Requirement already satisfied: catalogue<2.1.0,>=2.0.6 in /usr/local/lib/python3.8/dist-packages (from spacy) (2.0.8)\n",
            "Requirement already satisfied: pyparsing!=3.0.5,>=2.0.2 in /usr/local/lib/python3.8/dist-packages (from packaging>=20.0->spacy) (3.0.9)\n",
            "Requirement already satisfied: typing-extensions>=4.1.0 in /usr/local/lib/python3.8/dist-packages (from pydantic!=1.8,!=1.8.1,<1.11.0,>=1.7.4->spacy) (4.4.0)\n",
            "Requirement already satisfied: urllib3!=1.25.0,!=1.25.1,<1.26,>=1.21.1 in /usr/local/lib/python3.8/dist-packages (from requests<3.0.0,>=2.13.0->spacy) (1.24.3)\n",
            "Requirement already satisfied: chardet<4,>=3.0.2 in /usr/local/lib/python3.8/dist-packages (from requests<3.0.0,>=2.13.0->spacy) (3.0.4)\n",
            "Requirement already satisfied: idna<3,>=2.5 in /usr/local/lib/python3.8/dist-packages (from requests<3.0.0,>=2.13.0->spacy) (2.10)\n",
            "Requirement already satisfied: certifi>=2017.4.17 in /usr/local/lib/python3.8/dist-packages (from requests<3.0.0,>=2.13.0->spacy) (2022.12.7)\n",
            "Requirement already satisfied: blis<0.8.0,>=0.7.8 in /usr/local/lib/python3.8/dist-packages (from thinc<8.2.0,>=8.1.0->spacy) (0.7.9)\n",
            "Requirement already satisfied: confection<1.0.0,>=0.0.1 in /usr/local/lib/python3.8/dist-packages (from thinc<8.2.0,>=8.1.0->spacy) (0.0.3)\n",
            "Requirement already satisfied: click<9.0.0,>=7.1.1 in /usr/local/lib/python3.8/dist-packages (from typer<0.8.0,>=0.3.0->spacy) (7.1.2)\n",
            "Requirement already satisfied: MarkupSafe>=0.23 in /usr/local/lib/python3.8/dist-packages (from jinja2->spacy) (2.0.1)\n"
          ]
        }
      ]
    },
    {
      "cell_type": "code",
      "source": [
        "#download the french language model\n",
        "!python -m spacy download fr"
      ],
      "metadata": {
        "id": "34ffKyY8nJMq",
        "colab": {
          "base_uri": "https://localhost:8080/"
        },
        "outputId": "8ff0b4a0-2ebe-4b04-a83a-4d2f5d2fac05"
      },
      "execution_count": null,
      "outputs": [
        {
          "output_type": "stream",
          "name": "stdout",
          "text": [
            "/usr/local/lib/python3.8/dist-packages/torch/cuda/__init__.py:497: UserWarning: Can't initialize NVML\n",
            "  warnings.warn(\"Can't initialize NVML\")\n",
            "2022-12-20 14:46:54.941113: E tensorflow/stream_executor/cuda/cuda_driver.cc:271] failed call to cuInit: CUDA_ERROR_NO_DEVICE: no CUDA-capable device is detected\n",
            "\u001b[38;5;3m⚠ As of spaCy v3.0, shortcuts like 'fr' are deprecated. Please use the\n",
            "full pipeline package name 'fr_core_news_sm' instead.\u001b[0m\n",
            "Looking in indexes: https://pypi.org/simple, https://us-python.pkg.dev/colab-wheels/public/simple/\n",
            "Collecting fr-core-news-sm==3.4.0\n",
            "  Downloading https://github.com/explosion/spacy-models/releases/download/fr_core_news_sm-3.4.0/fr_core_news_sm-3.4.0-py3-none-any.whl (16.3 MB)\n",
            "\u001b[K     |████████████████████████████████| 16.3 MB 71.5 MB/s \n",
            "\u001b[?25hRequirement already satisfied: spacy<3.5.0,>=3.4.0 in /usr/local/lib/python3.8/dist-packages (from fr-core-news-sm==3.4.0) (3.4.4)\n",
            "Requirement already satisfied: preshed<3.1.0,>=3.0.2 in /usr/local/lib/python3.8/dist-packages (from spacy<3.5.0,>=3.4.0->fr-core-news-sm==3.4.0) (3.0.8)\n",
            "Requirement already satisfied: langcodes<4.0.0,>=3.2.0 in /usr/local/lib/python3.8/dist-packages (from spacy<3.5.0,>=3.4.0->fr-core-news-sm==3.4.0) (3.3.0)\n",
            "Requirement already satisfied: pydantic!=1.8,!=1.8.1,<1.11.0,>=1.7.4 in /usr/local/lib/python3.8/dist-packages (from spacy<3.5.0,>=3.4.0->fr-core-news-sm==3.4.0) (1.10.2)\n",
            "Requirement already satisfied: typer<0.8.0,>=0.3.0 in /usr/local/lib/python3.8/dist-packages (from spacy<3.5.0,>=3.4.0->fr-core-news-sm==3.4.0) (0.7.0)\n",
            "Requirement already satisfied: numpy>=1.15.0 in /usr/local/lib/python3.8/dist-packages (from spacy<3.5.0,>=3.4.0->fr-core-news-sm==3.4.0) (1.21.6)\n",
            "Requirement already satisfied: murmurhash<1.1.0,>=0.28.0 in /usr/local/lib/python3.8/dist-packages (from spacy<3.5.0,>=3.4.0->fr-core-news-sm==3.4.0) (1.0.9)\n",
            "Requirement already satisfied: spacy-loggers<2.0.0,>=1.0.0 in /usr/local/lib/python3.8/dist-packages (from spacy<3.5.0,>=3.4.0->fr-core-news-sm==3.4.0) (1.0.4)\n",
            "Requirement already satisfied: spacy-legacy<3.1.0,>=3.0.10 in /usr/local/lib/python3.8/dist-packages (from spacy<3.5.0,>=3.4.0->fr-core-news-sm==3.4.0) (3.0.10)\n",
            "Requirement already satisfied: jinja2 in /usr/local/lib/python3.8/dist-packages (from spacy<3.5.0,>=3.4.0->fr-core-news-sm==3.4.0) (2.11.3)\n",
            "Requirement already satisfied: wasabi<1.1.0,>=0.9.1 in /usr/local/lib/python3.8/dist-packages (from spacy<3.5.0,>=3.4.0->fr-core-news-sm==3.4.0) (0.10.1)\n",
            "Requirement already satisfied: cymem<2.1.0,>=2.0.2 in /usr/local/lib/python3.8/dist-packages (from spacy<3.5.0,>=3.4.0->fr-core-news-sm==3.4.0) (2.0.7)\n",
            "Requirement already satisfied: catalogue<2.1.0,>=2.0.6 in /usr/local/lib/python3.8/dist-packages (from spacy<3.5.0,>=3.4.0->fr-core-news-sm==3.4.0) (2.0.8)\n",
            "Requirement already satisfied: thinc<8.2.0,>=8.1.0 in /usr/local/lib/python3.8/dist-packages (from spacy<3.5.0,>=3.4.0->fr-core-news-sm==3.4.0) (8.1.5)\n",
            "Requirement already satisfied: tqdm<5.0.0,>=4.38.0 in /usr/local/lib/python3.8/dist-packages (from spacy<3.5.0,>=3.4.0->fr-core-news-sm==3.4.0) (4.64.1)\n",
            "Requirement already satisfied: packaging>=20.0 in /usr/local/lib/python3.8/dist-packages (from spacy<3.5.0,>=3.4.0->fr-core-news-sm==3.4.0) (21.3)\n",
            "Requirement already satisfied: smart-open<7.0.0,>=5.2.1 in /usr/local/lib/python3.8/dist-packages (from spacy<3.5.0,>=3.4.0->fr-core-news-sm==3.4.0) (6.3.0)\n",
            "Requirement already satisfied: pathy>=0.3.5 in /usr/local/lib/python3.8/dist-packages (from spacy<3.5.0,>=3.4.0->fr-core-news-sm==3.4.0) (0.10.1)\n",
            "Requirement already satisfied: srsly<3.0.0,>=2.4.3 in /usr/local/lib/python3.8/dist-packages (from spacy<3.5.0,>=3.4.0->fr-core-news-sm==3.4.0) (2.4.5)\n",
            "Requirement already satisfied: requests<3.0.0,>=2.13.0 in /usr/local/lib/python3.8/dist-packages (from spacy<3.5.0,>=3.4.0->fr-core-news-sm==3.4.0) (2.23.0)\n",
            "Requirement already satisfied: setuptools in /usr/local/lib/python3.8/dist-packages (from spacy<3.5.0,>=3.4.0->fr-core-news-sm==3.4.0) (57.4.0)\n",
            "Requirement already satisfied: pyparsing!=3.0.5,>=2.0.2 in /usr/local/lib/python3.8/dist-packages (from packaging>=20.0->spacy<3.5.0,>=3.4.0->fr-core-news-sm==3.4.0) (3.0.9)\n",
            "Requirement already satisfied: typing-extensions>=4.1.0 in /usr/local/lib/python3.8/dist-packages (from pydantic!=1.8,!=1.8.1,<1.11.0,>=1.7.4->spacy<3.5.0,>=3.4.0->fr-core-news-sm==3.4.0) (4.4.0)\n",
            "Requirement already satisfied: urllib3!=1.25.0,!=1.25.1,<1.26,>=1.21.1 in /usr/local/lib/python3.8/dist-packages (from requests<3.0.0,>=2.13.0->spacy<3.5.0,>=3.4.0->fr-core-news-sm==3.4.0) (1.24.3)\n",
            "Requirement already satisfied: chardet<4,>=3.0.2 in /usr/local/lib/python3.8/dist-packages (from requests<3.0.0,>=2.13.0->spacy<3.5.0,>=3.4.0->fr-core-news-sm==3.4.0) (3.0.4)\n",
            "Requirement already satisfied: certifi>=2017.4.17 in /usr/local/lib/python3.8/dist-packages (from requests<3.0.0,>=2.13.0->spacy<3.5.0,>=3.4.0->fr-core-news-sm==3.4.0) (2022.12.7)\n",
            "Requirement already satisfied: idna<3,>=2.5 in /usr/local/lib/python3.8/dist-packages (from requests<3.0.0,>=2.13.0->spacy<3.5.0,>=3.4.0->fr-core-news-sm==3.4.0) (2.10)\n",
            "Requirement already satisfied: blis<0.8.0,>=0.7.8 in /usr/local/lib/python3.8/dist-packages (from thinc<8.2.0,>=8.1.0->spacy<3.5.0,>=3.4.0->fr-core-news-sm==3.4.0) (0.7.9)\n",
            "Requirement already satisfied: confection<1.0.0,>=0.0.1 in /usr/local/lib/python3.8/dist-packages (from thinc<8.2.0,>=8.1.0->spacy<3.5.0,>=3.4.0->fr-core-news-sm==3.4.0) (0.0.3)\n",
            "Requirement already satisfied: click<9.0.0,>=7.1.1 in /usr/local/lib/python3.8/dist-packages (from typer<0.8.0,>=0.3.0->spacy<3.5.0,>=3.4.0->fr-core-news-sm==3.4.0) (7.1.2)\n",
            "Requirement already satisfied: MarkupSafe>=0.23 in /usr/local/lib/python3.8/dist-packages (from jinja2->spacy<3.5.0,>=3.4.0->fr-core-news-sm==3.4.0) (2.0.1)\n",
            "Installing collected packages: fr-core-news-sm\n",
            "Successfully installed fr-core-news-sm-3.4.0\n",
            "\u001b[38;5;2m✔ Download and installation successful\u001b[0m\n",
            "You can now load the package via spacy.load('fr_core_news_sm')\n"
          ]
        }
      ]
    },
    {
      "cell_type": "code",
      "source": [
        "%matplotlib inline\n",
        "import matplotlib.pyplot as plt"
      ],
      "metadata": {
        "id": "wi9DLLKsHOgQ"
      },
      "execution_count": null,
      "outputs": []
    },
    {
      "cell_type": "code",
      "source": [
        "# Create a list of punctuation marks\n",
        "import string\n",
        "\n",
        "punctuations = string.punctuation\n",
        "punctuations"
      ],
      "metadata": {
        "id": "vf_fGdHkmCH5",
        "colab": {
          "base_uri": "https://localhost:8080/",
          "height": 36
        },
        "outputId": "faddc500-585e-40fd-f49c-2e1912f02d76"
      },
      "execution_count": null,
      "outputs": [
        {
          "output_type": "execute_result",
          "data": {
            "text/plain": [
              "'!\"#$%&\\'()*+,-./:;<=>?@[\\\\]^_`{|}~'"
            ],
            "application/vnd.google.colaboratory.intrinsic+json": {
              "type": "string"
            }
          },
          "metadata": {},
          "execution_count": 17
        }
      ]
    },
    {
      "cell_type": "code",
      "source": [
        "import spacy\n",
        "from sklearn.feature_extraction.text import TfidfVectorizer\n",
        "from gensim.models import Doc2Vec\n",
        "\n",
        "# Load French language model\n",
        "sp = spacy.load('fr_core_news_sm')\n",
        "\n",
        "# Create tokenizer function\n",
        "def spacy_tokenizer(sentence):\n",
        "    # Create token object, which is used to create documents with linguistic annotations.\n",
        "    mytokens = sp(sentence)\n",
        "\n",
        "    # Lemmatize each token and convert each token into lowercase\n",
        "    mytokens = [ word.lemma_.lower().strip() for word in mytokens ]\n",
        "\n",
        "    # Remove stop words and punctuation\n",
        "    mytokens = [ word for word in mytokens if word not in punctuations ]\n",
        "\n",
        "    # Return preprocessed list of tokens\n",
        "    return mytokens\n",
        "\n",
        "# we use the above defined tokenizer\n",
        "tfidf_vector = TfidfVectorizer(tokenizer=spacy_tokenizer) "
      ],
      "metadata": {
        "id": "JZCpwgammFQG",
        "colab": {
          "base_uri": "https://localhost:8080/"
        },
        "outputId": "86718ff3-a94b-4e8e-d811-5a6382ac8d52"
      },
      "execution_count": null,
      "outputs": [
        {
          "output_type": "stream",
          "name": "stderr",
          "text": [
            "/usr/local/lib/python3.8/dist-packages/torch/cuda/__init__.py:497: UserWarning: Can't initialize NVML\n",
            "  warnings.warn(\"Can't initialize NVML\")\n"
          ]
        }
      ]
    },
    {
      "cell_type": "code",
      "source": [
        "#features that we want to analyse\n",
        "\n",
        "#independent variable\n",
        "X=df[\"sentence\"] \n",
        "\n",
        "#dependent variable\n",
        "y=df[\"difficulty\"]\n",
        "\n",
        "#Test on unlabelled data\n",
        "X_sub_test=df_pred[\"sentence\"]"
      ],
      "metadata": {
        "id": "EL9kZ9KpmK0u"
      },
      "execution_count": null,
      "outputs": []
    },
    {
      "cell_type": "markdown",
      "metadata": {
        "id": "FfTgL1erjqQ6"
      },
      "source": [
        "### 4. Train your models\n",
        "\n",
        "Set your X and y variables. \n",
        "Set the `random_state=0`\n",
        "Split the data into a train and test set using the following parameters `train_test_split(X, y, test_size=0.2, random_state=0)`."
      ]
    },
    {
      "cell_type": "code",
      "source": [
        "#Train Test split classic\n",
        "from sklearn.model_selection import train_test_split\n",
        "X_train, X_test, y_train, y_test = train_test_split(X, y, shuffle=True, test_size=0.2, random_state=0)"
      ],
      "metadata": {
        "id": "HQmxHbg_Cf5a"
      },
      "execution_count": null,
      "outputs": []
    },
    {
      "cell_type": "markdown",
      "source": [
        "#### 4.1.Baseline\n",
        "What is the baseline for this classification problem?"
      ],
      "metadata": {
        "id": "zx8UKoVNJ3ge"
      }
    },
    {
      "cell_type": "code",
      "execution_count": null,
      "metadata": {
        "id": "t4O_pYiHpiRd"
      },
      "outputs": [],
      "source": [
        "np.random.seed = 0"
      ]
    },
    {
      "cell_type": "code",
      "execution_count": null,
      "metadata": {
        "id": "WDdFr4xsk5Qf",
        "colab": {
          "base_uri": "https://localhost:8080/"
        },
        "outputId": "e5250703-999a-48f0-a846-36a43d57ca26"
      },
      "outputs": [
        {
          "output_type": "execute_result",
          "data": {
            "text/plain": [
              "0.169375"
            ]
          },
          "metadata": {},
          "execution_count": 24
        }
      ],
      "source": [
        "#Baseline\n",
        "\n",
        "from sklearn.dummy import DummyClassifier\n",
        "\n",
        "dummy = DummyClassifier(strategy='most_frequent')\n",
        "dummy.fit(None, y)\n",
        " \n",
        "base_line = dummy.score(None, y)\n",
        "base_line"
      ]
    },
    {
      "cell_type": "markdown",
      "metadata": {
        "id": "SlvbPYa0k78l"
      },
      "source": [
        "#### 4.2. Logistic Regression (without data cleaning)\n",
        "\n",
        "Train a simple logistic regression model using a Tfidf vectoriser."
      ]
    },
    {
      "cell_type": "code",
      "source": [
        "#import classification's test package\n",
        "from sklearn.metrics import confusion_matrix, accuracy_score, precision_score, recall_score, f1_score"
      ],
      "metadata": {
        "id": "ffmvykQGt8ok"
      },
      "execution_count": null,
      "outputs": []
    },
    {
      "cell_type": "code",
      "source": [
        "#import Pipeline\n",
        "from sklearn.pipeline import Pipeline"
      ],
      "metadata": {
        "id": "Z9kFcKxht7N8"
      },
      "execution_count": null,
      "outputs": []
    },
    {
      "cell_type": "code",
      "source": [
        "#Import package for Logistic Regression\n",
        "from sklearn.linear_model import LogisticRegression, LogisticRegressionCV\n",
        "\n",
        "#define classifer for Logistic regression\n",
        "log_reg_classifier=LogisticRegression()"
      ],
      "metadata": {
        "id": "HMsyffyd8ecQ"
      },
      "execution_count": null,
      "outputs": []
    },
    {
      "cell_type": "markdown",
      "source": [
        "#### 4.2.1 With tf-idf, we are using a pipeline"
      ],
      "metadata": {
        "id": "vUqLvfygNAha"
      }
    },
    {
      "cell_type": "code",
      "execution_count": null,
      "metadata": {
        "id": "eEe3-QNlow4H",
        "colab": {
          "base_uri": "https://localhost:8080/"
        },
        "outputId": "dddd7348-860b-4fb9-a9c2-798bc1191ce3"
      },
      "outputs": [
        {
          "output_type": "execute_result",
          "data": {
            "text/plain": [
              "Pipeline(steps=[('vectorizer',\n",
              "                 TfidfVectorizer(tokenizer=<function spacy_tokenizer at 0x7f5892d4d820>)),\n",
              "                ('classifier', LogisticRegression())])"
            ]
          },
          "metadata": {},
          "execution_count": 75
        }
      ],
      "source": [
        "#Create pipeline\n",
        "pipe_log_reg_classifier=Pipeline([('vectorizer',tfidf_vector),\n",
        "                                  ('classifier', log_reg_classifier)])\n",
        "\n",
        "#Fit model on training set\n",
        "pipe_log_reg_classifier.fit(X_train,y_train)"
      ]
    },
    {
      "cell_type": "markdown",
      "metadata": {
        "id": "bZ-qO8C5oyov"
      },
      "source": [
        "Calculate accuracy, precision, recall and F1 score on the test set."
      ]
    },
    {
      "cell_type": "code",
      "source": [
        "#Test accuracy\n",
        "y_pred_logreg = pipe_log_reg_classifier.predict(X_test)\n",
        "acc_test_logreg = accuracy_score(y_test, y_pred_logreg)\n",
        "\n",
        "#Train accuracy\n",
        "y_pred_train_logreg = pipe_log_reg_classifier.predict(X_train)\n",
        "acc_train_logreg = accuracy_score(y_train,y_pred_train_logreg)\n",
        "\n",
        "#Precision\n",
        "precision_logreg = precision_score(y_test, y_pred_logreg, average='macro')\n",
        "\n",
        "#Recall\n",
        "recall_logreg = recall_score(y_test, y_pred_logreg, average='macro')\n",
        "\n",
        "#F1-Score\n",
        "f1_logreg = f1_score(y_test, y_pred_logreg, average='macro')\n",
        "\n",
        "print(\"For Logistic Regression :\")\n",
        "print(\"Test accuracy :\", acc_test_logreg*100)\n",
        "print(\"Train accuracy :\", acc_train_logreg*100)\n",
        "print(\"Precision :\", precision_logreg*100)\n",
        "print(\"Recall :\", recall_logreg*100)\n",
        "print(\"F1-score :\", f1_logreg*100)"
      ],
      "metadata": {
        "colab": {
          "base_uri": "https://localhost:8080/"
        },
        "id": "9U8dEDV7n_kE",
        "outputId": "f9737fc2-1193-4e01-8bc1-46e0809002f2"
      },
      "execution_count": null,
      "outputs": [
        {
          "output_type": "stream",
          "name": "stdout",
          "text": [
            "For Logistic Regression :\n",
            "Test accuracy : 46.458333333333336\n",
            "Train accuracy : 84.140625\n",
            "Precision : 46.15537968355972\n",
            "Recall : 46.46687817296494\n",
            "F1-score : 46.16656821476714\n"
          ]
        }
      ]
    },
    {
      "cell_type": "markdown",
      "metadata": {
        "id": "9D3_dp3apcmr"
      },
      "source": [
        "#### 4.2.3 Have a look at the confusion matrix and identify a few examples of sentences that are not well classified."
      ]
    },
    {
      "cell_type": "code",
      "execution_count": null,
      "metadata": {
        "id": "ZSyKq3h_qZmX",
        "colab": {
          "base_uri": "https://localhost:8080/"
        },
        "outputId": "c9e2a9b4-861f-4213-c770-67c7e80320d2"
      },
      "outputs": [
        {
          "output_type": "stream",
          "name": "stdout",
          "text": [
            "Confusion matrix with logistic regression: \n",
            " [[97 28 17  7  8  4]\n",
            " [51 63 28 11  7  4]\n",
            " [13 30 70 17 14 16]\n",
            " [ 8  6 18 59 25 28]\n",
            " [ 7  8 10 39 72 37]\n",
            " [12  6 11 16 28 85]]\n"
          ]
        }
      ],
      "source": [
        "conf_matrix_logreg = confusion_matrix(y_test,y_pred_logreg)\n",
        "\n",
        "print(\"Confusion matrix with logistic regression: \\n\", conf_matrix_logreg)"
      ]
    },
    {
      "cell_type": "markdown",
      "source": [
        "The difficulty that is worst classified is B2."
      ],
      "metadata": {
        "id": "F0cS8--CuLG5"
      }
    },
    {
      "cell_type": "markdown",
      "metadata": {
        "id": "9TTEiuXasNFg"
      },
      "source": [
        "#### 4.2.4 Generate your first predictions on the `unlabelled_test_data.csv`. make sure your predictions match the format of the `unlabelled_test_data.csv`."
      ]
    },
    {
      "cell_type": "code",
      "source": [
        "#predicted unlabelled data with logistic regression\n",
        "\n",
        "y_sub_pred_logreg = pipe_log_reg_classifier.predict(X_sub_test)\n",
        "\n",
        "submission_result= {'id': df_pred[\"id\"],\n",
        "                    \"difficulty\": y_sub_pred_logreg }\n",
        "submission_result_table=pd.DataFrame(data=submission_result)\n",
        "submission_result_table.head(1200)\n",
        "\n",
        "submission_result_table.to_csv(\"UNIL_Orange_logistic_regression.csv\",sep=',',index=False)"
      ],
      "metadata": {
        "id": "KkCWJUKppSBQ"
      },
      "execution_count": null,
      "outputs": []
    },
    {
      "cell_type": "markdown",
      "metadata": {
        "id": "vXG_yIG_pQ8t"
      },
      "source": [
        "#### 4.3. KNN (without data cleaning)\n",
        "\n",
        "Train a KNN classification model using a Tfidf vectoriser. Show the accuracy, precision, recall and F1 score on the test set."
      ]
    },
    {
      "cell_type": "code",
      "execution_count": null,
      "metadata": {
        "id": "GPRjD1rSqKKZ"
      },
      "outputs": [],
      "source": [
        "# import KNN packages \n",
        "from sklearn.neighbors import KNeighborsClassifier\n",
        "from sklearn.model_selection import GridSearchCV\n",
        "\n",
        "#Define classifer for kNN\n",
        "KNN_classifier=KNeighborsClassifier()"
      ]
    },
    {
      "cell_type": "markdown",
      "source": [
        "#### 4.3.1 With tf-idf, we are using a pipeline"
      ],
      "metadata": {
        "id": "q6pXOFhPMu37"
      }
    },
    {
      "cell_type": "code",
      "source": [
        "#Create the grid\n",
        "grid = {'n_neighbors':np.arange(1,30),\n",
        "        'weights':['uniform','distance'],\n",
        "        'p':[1,2,0.5]\n",
        "       }\n",
        "knn_cv = GridSearchCV(KNN_classifier, grid, cv=5, scoring = 'accuracy', return_train_score= False, verbose = 1, n_jobs = -1)\n",
        "\n",
        "#Create pipeline\n",
        "pipe_KNN_classifier=Pipeline([('vectorizer',tfidf_vector),\n",
        "                              ('classifier',knn_cv)])\n",
        "\n",
        "#Fit model on training set\n",
        "pipe_KNN_classifier.fit(X_train,y_train)"
      ],
      "metadata": {
        "id": "TOnAWaD5oTd7",
        "colab": {
          "base_uri": "https://localhost:8080/"
        },
        "outputId": "fac3500f-a485-4c60-faea-14b2b2076ef3"
      },
      "execution_count": null,
      "outputs": [
        {
          "output_type": "stream",
          "name": "stdout",
          "text": [
            "Fitting 5 folds for each of 174 candidates, totalling 870 fits\n"
          ]
        },
        {
          "output_type": "stream",
          "name": "stderr",
          "text": [
            "/usr/local/lib/python3.8/dist-packages/sklearn/model_selection/_validation.py:372: FitFailedWarning: \n",
            "290 fits failed out of a total of 870.\n",
            "The score on these train-test partitions for these parameters will be set to nan.\n",
            "If these failures are not expected, you can try to debug them by setting error_score='raise'.\n",
            "\n",
            "Below are more details about the failures:\n",
            "--------------------------------------------------------------------------------\n",
            "290 fits failed with the following error:\n",
            "Traceback (most recent call last):\n",
            "  File \"/usr/local/lib/python3.8/dist-packages/sklearn/model_selection/_validation.py\", line 680, in _fit_and_score\n",
            "    estimator.fit(X_train, y_train, **fit_params)\n",
            "  File \"/usr/local/lib/python3.8/dist-packages/sklearn/neighbors/_classification.py\", line 198, in fit\n",
            "    return self._fit(X, y)\n",
            "  File \"/usr/local/lib/python3.8/dist-packages/sklearn/neighbors/_base.py\", line 437, in _fit\n",
            "    self._check_algorithm_metric()\n",
            "  File \"/usr/local/lib/python3.8/dist-packages/sklearn/neighbors/_base.py\", line 395, in _check_algorithm_metric\n",
            "    raise ValueError(\"p must be greater or equal to one for minkowski metric\")\n",
            "ValueError: p must be greater or equal to one for minkowski metric\n",
            "\n",
            "  warnings.warn(some_fits_failed_message, FitFailedWarning)\n",
            "/usr/local/lib/python3.8/dist-packages/sklearn/model_selection/_search.py:969: UserWarning: One or more of the test scores are non-finite: [0.21927083 0.21927083 0.34296875 0.34296875        nan        nan\n",
            " 0.18802083 0.21927083 0.27708333 0.34296875        nan        nan\n",
            " 0.190625   0.20833333 0.30416667 0.35390625        nan        nan\n",
            " 0.18333333 0.20520833 0.32057292 0.35494792        nan        nan\n",
            " 0.18151042 0.19765625 0.321875   0.359375          nan        nan\n",
            " 0.17630208 0.19427083 0.328125   0.35989583        nan        nan\n",
            " 0.17447917 0.18880208 0.33255208 0.36145833        nan        nan\n",
            " 0.17239583 0.18463542 0.32916667 0.35677083        nan        nan\n",
            " 0.17239583 0.18098958 0.33567708 0.3625            nan        nan\n",
            " 0.17135417 0.17994792 0.34375    0.3671875         nan        nan\n",
            " 0.17135417 0.17786458 0.33541667 0.36432292        nan        nan\n",
            " 0.17109375 0.17734375 0.34166667 0.3640625         nan        nan\n",
            " 0.17109375 0.17734375 0.34427083 0.36692708        nan        nan\n",
            " 0.1703125  0.17604167 0.34427083 0.36223958        nan        nan\n",
            " 0.16979167 0.17395833 0.34322917 0.36302083        nan        nan\n",
            " 0.1703125  0.17473958 0.35052083 0.36953125        nan        nan\n",
            " 0.1703125  0.17291667 0.34401042 0.36276042        nan        nan\n",
            " 0.17005208 0.17265625 0.34270833 0.36119792        nan        nan\n",
            " 0.16979167 0.17213542 0.34557292 0.36171875        nan        nan\n",
            " 0.16953125 0.17135417 0.34739583 0.36171875        nan        nan\n",
            " 0.16979167 0.171875   0.34322917 0.3578125         nan        nan\n",
            " 0.16979167 0.171875   0.34453125 0.35572917        nan        nan\n",
            " 0.16979167 0.17213542 0.34765625 0.35911458        nan        nan\n",
            " 0.16979167 0.171875   0.34401042 0.35963542        nan        nan\n",
            " 0.16953125 0.17161458 0.34479167 0.35598958        nan        nan\n",
            " 0.16953125 0.17109375 0.34739583 0.35911458        nan        nan\n",
            " 0.16953125 0.17109375 0.3453125  0.35625           nan        nan\n",
            " 0.16953125 0.17109375 0.34817708 0.35885417        nan        nan\n",
            " 0.16953125 0.17135417 0.34791667 0.36119792        nan        nan]\n",
            "  warnings.warn(\n"
          ]
        },
        {
          "output_type": "execute_result",
          "data": {
            "text/plain": [
              "Pipeline(steps=[('vectorizer',\n",
              "                 TfidfVectorizer(tokenizer=<function spacy_tokenizer at 0x7f5892d4d820>)),\n",
              "                ('classifier',\n",
              "                 GridSearchCV(cv=5, estimator=KNeighborsClassifier(), n_jobs=-1,\n",
              "                              param_grid={'n_neighbors': array([ 1,  2,  3,  4,  5,  6,  7,  8,  9, 10, 11, 12, 13, 14, 15, 16, 17,\n",
              "       18, 19, 20, 21, 22, 23, 24, 25, 26, 27, 28, 29]),\n",
              "                                          'p': [1, 2, 0.5],\n",
              "                                          'weights': ['uniform', 'distance']},\n",
              "                              scoring='accuracy', verbose=1))])"
            ]
          },
          "metadata": {},
          "execution_count": 36
        }
      ]
    },
    {
      "cell_type": "code",
      "source": [
        "#Test accuracy\n",
        "y_pred_knn = pipe_KNN_classifier.predict(X_test)\n",
        "acc_test_knn = accuracy_score(y_test, y_pred_knn)\n",
        "\n",
        "#Train accuracy\n",
        "y_pred_train_knn = pipe_KNN_classifier.predict(X_train)\n",
        "acc_train_knn = accuracy_score(y_train,y_pred_train_knn)\n",
        "\n",
        "#Precision\n",
        "precision_knn = precision_score(y_test, y_pred_knn, average='macro')\n",
        "\n",
        "#Recall\n",
        "recall_knn = recall_score(y_test, y_pred_knn, average='macro')\n",
        "\n",
        "#F1-Score\n",
        "f1_knn = f1_score(y_test, y_pred_knn, average='macro')\n",
        "\n",
        "print(\"For KNN :\")\n",
        "print(\"Test accuracy :\", acc_test_knn*100)\n",
        "print(\"Train accuracy :\", acc_train_knn*100)\n",
        "print(\"Precision :\", precision_knn*100)\n",
        "print(\"Recall :\", recall_knn*100)\n",
        "print(\"F1-score :\", f1_knn*100)"
      ],
      "metadata": {
        "colab": {
          "base_uri": "https://localhost:8080/"
        },
        "id": "6WeVg-uS9Vgd",
        "outputId": "420fc1df-7b00-4d2c-f81d-f0a9be22c120"
      },
      "execution_count": null,
      "outputs": [
        {
          "output_type": "stream",
          "name": "stdout",
          "text": [
            "For KNN :\n",
            "Test accuracy : 34.89583333333333\n",
            "Train accuracy : 99.84375\n",
            "Precision : 39.972949523622084\n",
            "Recall : 34.84958608246633\n",
            "F1-score : 33.537359081215534\n"
          ]
        }
      ]
    },
    {
      "cell_type": "markdown",
      "metadata": {
        "id": "D6rH2Hx0qtB2"
      },
      "source": [
        "#### 4.3.2 Try to improve it by tuning the hyper parameters (`n_neighbors`,   `p`, `weights`)."
      ]
    },
    {
      "cell_type": "code",
      "execution_count": null,
      "metadata": {
        "id": "wRy18Ce_qxPc",
        "colab": {
          "base_uri": "https://localhost:8080/"
        },
        "outputId": "86745721-4bbe-439d-9dbf-3febe6417dae"
      },
      "outputs": [
        {
          "output_type": "stream",
          "name": "stdout",
          "text": [
            "Hyperparameters: {'n_neighbors': 16, 'p': 2, 'weights': 'distance'}\n"
          ]
        }
      ],
      "source": [
        "#Find the best parameters for KNN classification\n",
        "print(\"Hyperparameters:\", knn_cv.best_params_)"
      ]
    },
    {
      "cell_type": "markdown",
      "source": [
        "Best parameters :\n",
        "- n_neighbors = 16\n",
        "- weights = 'distance' \n",
        "- p = 2"
      ],
      "metadata": {
        "id": "EaxXr0gxoN1x"
      }
    },
    {
      "cell_type": "code",
      "source": [
        "# Train the KNN model using the best parameters\n",
        "knn_classifier_opti=KNeighborsClassifier(n_neighbors=16, weights = 'distance', p=2)\n",
        "\n",
        "pipe_KNN_classifier_opti=Pipeline([('vectorizer',tfidf_vector),\n",
        "                              ('classifier',knn_classifier_opti)])\n",
        "\n",
        "#Fit model on training set\n",
        "pipe_KNN_classifier_opti.fit(X_train,y_train)"
      ],
      "metadata": {
        "id": "AlOVrAnq9G75",
        "colab": {
          "base_uri": "https://localhost:8080/"
        },
        "outputId": "569e24d8-dc6e-4bf7-d163-73e0e6dbdc64"
      },
      "execution_count": null,
      "outputs": [
        {
          "output_type": "execute_result",
          "data": {
            "text/plain": [
              "Pipeline(steps=[('vectorizer',\n",
              "                 TfidfVectorizer(tokenizer=<function spacy_tokenizer at 0x7f5892d4d820>)),\n",
              "                ('classifier',\n",
              "                 KNeighborsClassifier(n_neighbors=16, weights='distance'))])"
            ]
          },
          "metadata": {},
          "execution_count": 39
        }
      ]
    },
    {
      "cell_type": "code",
      "source": [
        "#Predict test & train model\n",
        "y_pred_knn_opti=pipe_KNN_classifier_opti.predict(X_test)\n",
        "y_train_pred_knn_opti=pipe_KNN_classifier_opti.predict(X_train)\n",
        "\n",
        "#Test accuracy\n",
        "acc_test_knn_opti=accuracy_score(y_test,y_pred_knn_opti)\n",
        "\n",
        "#Train accuracy\n",
        "acc_train_knn_opti=accuracy_score(y_train, y_train_pred_knn_opti)\n",
        "\n",
        "#Precision\n",
        "precision_knn_opti = precision_score(y_test, y_pred_knn_opti, average='macro')\n",
        "\n",
        "#Recall\n",
        "recall_knn_opti = recall_score(y_test, y_pred_knn_opti, average='macro')\n",
        "\n",
        "#F1-Score\n",
        "f1_knn_opti = f1_score(y_test, y_pred_knn_opti, average='macro')\n",
        "\n",
        "print(\"For KNN, with hyperparameters:\")\n",
        "print(\"Test accuracy :\", acc_test_knn_opti*100)\n",
        "print(\"Train accuracy :\", acc_train_knn_opti*100)\n",
        "print(\"Precision :\", precision_knn_opti*100)\n",
        "print(\"Recall :\", recall_knn_opti*100)\n",
        "print(\"F1-score :\", f1_knn_opti*100)"
      ],
      "metadata": {
        "colab": {
          "base_uri": "https://localhost:8080/"
        },
        "id": "2edSPFojkW_L",
        "outputId": "d0a485f7-754c-4ba5-ad48-764151dec010"
      },
      "execution_count": null,
      "outputs": [
        {
          "output_type": "stream",
          "name": "stdout",
          "text": [
            "For KNN, with hyperparameters:\n",
            "Test accuracy : 34.89583333333333\n",
            "Train accuracy : 99.84375\n",
            "Precision : 39.972949523622084\n",
            "Recall : 34.84958608246633\n",
            "F1-score : 33.537359081215534\n"
          ]
        }
      ]
    },
    {
      "cell_type": "markdown",
      "source": [
        "#### 4.3.4 Have a look at the confusion matrix."
      ],
      "metadata": {
        "id": "G6Pah3cyesHA"
      }
    },
    {
      "cell_type": "code",
      "source": [
        "conf_matrix_knn = confusion_matrix(y_test,y_pred_knn_opti)\n",
        "\n",
        "print(\"Confusion matrix with knn: \\n\", conf_matrix_knn)"
      ],
      "metadata": {
        "id": "pjrSrPfqnrtr",
        "colab": {
          "base_uri": "https://localhost:8080/"
        },
        "outputId": "8f0bd3c7-4b66-42ff-d843-fb88c3fb4bf8"
      },
      "execution_count": null,
      "outputs": [
        {
          "output_type": "stream",
          "name": "stdout",
          "text": [
            "Confusion matrix with knn: \n",
            " [[104  41  12   0   3   1]\n",
            " [ 92  51  15   1   2   3]\n",
            " [ 63  49  33   4   1  10]\n",
            " [ 25  35  23  27  10  24]\n",
            " [ 22  23  26  21  35  46]\n",
            " [ 25  26  11   5   6  85]]\n"
          ]
        }
      ]
    },
    {
      "cell_type": "markdown",
      "source": [
        "#### 4.3.5 Generate our predictions"
      ],
      "metadata": {
        "id": "kAWiOXmMhlwr"
      }
    },
    {
      "cell_type": "code",
      "source": [
        "y_sub_pred_knn = pipe_KNN_classifier_opti.predict(X_sub_test)\n",
        "\n",
        "submission_result= {'id': df_pred[\"id\"],\n",
        "                    \"difficulty\": y_sub_pred_knn }\n",
        "submission_result_table=pd.DataFrame(data=submission_result)\n",
        "submission_result_table.head(1200)\n",
        "\n",
        "submission_result_table.to_csv(\"UNIL_Orange_knn.csv\",sep=',',index=False)"
      ],
      "metadata": {
        "id": "iNe6-hpxhsSm"
      },
      "execution_count": null,
      "outputs": []
    },
    {
      "cell_type": "markdown",
      "metadata": {
        "id": "FFNH1WgNqc62"
      },
      "source": [
        "#### 4.4. Decision Tree Classifier \n",
        "\n",
        "Train a Decison Tree classifier, using a Tfidf vectoriser. Show the accuracy, precision, recall and F1 score on the test set."
      ]
    },
    {
      "cell_type": "code",
      "source": [
        "# import decision tree packages \n",
        "from sklearn.tree import DecisionTreeClassifier, plot_tree\n",
        "from sklearn.model_selection import cross_val_score, GridSearchCV"
      ],
      "metadata": {
        "id": "1CqP1damflmQ"
      },
      "execution_count": null,
      "outputs": []
    },
    {
      "cell_type": "markdown",
      "source": [
        "#### 4.4.1 With tf-idf, we are using a pipeline"
      ],
      "metadata": {
        "id": "jio3pbc6feT9"
      }
    },
    {
      "cell_type": "code",
      "source": [
        "# DTC training\n",
        "dtc = DecisionTreeClassifier(random_state=0)\n",
        "\n",
        "#Create pipeline\n",
        "pipe_dtc_classifier =Pipeline([('vectorizer',tfidf_vector),\n",
        "                              ('classifier', dtc)])\n",
        "\n",
        "#Fit model on training set\n",
        "pipe_dtc_classifier.fit(X_train,y_train)"
      ],
      "metadata": {
        "colab": {
          "base_uri": "https://localhost:8080/"
        },
        "id": "2M6t54pKu4lE",
        "outputId": "acdc0c17-a397-481b-84ed-8c896bffbead"
      },
      "execution_count": null,
      "outputs": [
        {
          "output_type": "execute_result",
          "data": {
            "text/plain": [
              "Pipeline(steps=[('vectorizer',\n",
              "                 TfidfVectorizer(tokenizer=<function spacy_tokenizer at 0x7f5892d4d820>)),\n",
              "                ('classifier', DecisionTreeClassifier(random_state=0))])"
            ]
          },
          "metadata": {},
          "execution_count": 44
        }
      ]
    },
    {
      "cell_type": "code",
      "source": [
        "#Test accuracy\n",
        "y_pred_dtc = pipe_dtc_classifier.predict(X_test)\n",
        "acc_test_dtc = accuracy_score(y_test, y_pred_dtc)\n",
        "\n",
        "#Train accuracy\n",
        "y_pred_train_dtc = pipe_dtc_classifier.predict(X_train)\n",
        "acc_train_dtc = accuracy_score(y_train,y_pred_train_dtc)\n",
        "\n",
        "#Precision\n",
        "precision_dtc = precision_score(y_test, y_pred_dtc, average='weighted')\n",
        "\n",
        "#Recall\n",
        "recall_dtc = recall_score(y_test, y_pred_dtc, average='weighted')\n",
        "\n",
        "#F1-Score\n",
        "f1_dtc = f1_score(y_test, y_pred_dtc, average='weighted')\n",
        "\n",
        "print(\"For decision tree : \\n\")\n",
        "print(\"Test accuracy : \", acc_test_dtc*100)\n",
        "print(\"Train accuracy : \", acc_train_dtc*100)\n",
        "print(\"Precision : \", precision_dtc*100)\n",
        "print(\"Recall : \", recall_dtc*100)\n",
        "print(\"F1_score : \", f1_dtc*100)"
      ],
      "metadata": {
        "id": "Bj8yTMXZu7RS",
        "colab": {
          "base_uri": "https://localhost:8080/"
        },
        "outputId": "959a126a-641e-4aaa-ed50-32260a32d610"
      },
      "execution_count": null,
      "outputs": [
        {
          "output_type": "stream",
          "name": "stdout",
          "text": [
            "For decision tree : \n",
            "\n",
            "Test accuracy :  29.895833333333332\n",
            "Train accuracy :  99.84375\n",
            "Precision :  29.846098961246735\n",
            "Recall :  29.895833333333332\n",
            "F1_score :  29.667672002348617\n"
          ]
        }
      ]
    },
    {
      "cell_type": "markdown",
      "metadata": {
        "id": "yQHjvOp7q11L"
      },
      "source": [
        "#### 4.4.2 Try to improve it by tuning the hyper parameters (`max_depth`)."
      ]
    },
    {
      "cell_type": "code",
      "execution_count": null,
      "metadata": {
        "id": "x1Fzl5BUq8JN"
      },
      "outputs": [],
      "source": [
        "# function for fitting trees of various depths on the training data using cross-validation\n",
        "def run_cross_validation_on_trees(X, y, tree_depths, cv=5, scoring='accuracy'):\n",
        "    cv_scores_list = []\n",
        "    cv_scores_std = []\n",
        "    cv_scores_mean = []\n",
        "    accuracy_scores = []\n",
        "    for depth in tree_depths:\n",
        "        tree_model = DecisionTreeClassifier(max_depth=depth)\n",
        "        cv_scores = cross_val_score(tree_model, X, y, cv=cv, scoring=scoring)\n",
        "        cv_scores_list.append(cv_scores)\n",
        "        cv_scores_mean.append(cv_scores.mean())\n",
        "        cv_scores_std.append(cv_scores.std())\n",
        "        accuracy_scores.append(tree_model.fit(X, y).score(X, y))\n",
        "    cv_scores_mean = np.array(cv_scores_mean)\n",
        "    cv_scores_std = np.array(cv_scores_std)\n",
        "    accuracy_scores = np.array(accuracy_scores)\n",
        "    return cv_scores_mean, cv_scores_std, accuracy_scores\n",
        "\n",
        "def plot_cross_validation_on_trees(depths, cv_scores_mean, cv_scores_std, accuracy_scores, title):\n",
        "    fig, ax = plt.subplots(1,1, figsize=(15,5))\n",
        "    ax.plot(depths, cv_scores_mean, '-o', label='mean cross-validation accuracy', alpha=0.9)\n",
        "    ax.fill_between(depths, cv_scores_mean-2*cv_scores_std, cv_scores_mean+2*cv_scores_std, alpha=0.2)\n",
        "    ylim = plt.ylim()\n",
        "    ax.plot(depths, accuracy_scores, '-*', label='train accuracy', alpha=0.9)\n",
        "    ax.set_title(title, fontsize=16)\n",
        "    ax.set_xlabel('Tree depth', fontsize=14)\n",
        "    ax.set_ylabel('Accuracy', fontsize=14)\n",
        "    ax.set_ylim(ylim)\n",
        "    ax.set_xticks(depths)\n",
        "    ax.legend()"
      ]
    },
    {
      "cell_type": "code",
      "source": [
        "#tfidfisation of X_train & X_test manually\n",
        "x_train_s = tfidf_vector.fit_transform(X_train)\n",
        "y_train_s = tfidf_vector.fit_transform(y_train)\n",
        "x_train_s=x_train_s.toarray()\n",
        "y_train_s=y_train_s.toarray()\n",
        "\n",
        "x_test_s = tfidf_vector.fit_transform(X_test)\n",
        "y_test_s = tfidf_vector.fit_transform(y_test)\n",
        "x_test_s=x_test_s.toarray()\n",
        "y_test_s=y_test_s.toarray()"
      ],
      "metadata": {
        "id": "wThqBXziIpag"
      },
      "execution_count": null,
      "outputs": []
    },
    {
      "cell_type": "code",
      "source": [
        "tree_params = {\"max_depth\": range(1, 100)}\n",
        "\n",
        "tree_grid = GridSearchCV(dtc, tree_params, cv=5, n_jobs=-1, verbose=True)\n",
        "\n",
        "tree_grid.fit(x_train_s, y_train_s)"
      ],
      "metadata": {
        "colab": {
          "base_uri": "https://localhost:8080/"
        },
        "id": "gBJ9mzjuvTGG",
        "outputId": "57aecb4c-b692-4d28-b023-1c4895aa3f7a"
      },
      "execution_count": null,
      "outputs": [
        {
          "output_type": "stream",
          "name": "stdout",
          "text": [
            "Fitting 5 folds for each of 1782 candidates, totalling 8910 fits\n"
          ]
        },
        {
          "output_type": "stream",
          "name": "stderr",
          "text": [
            "/usr/local/lib/python3.8/dist-packages/joblib/externals/loky/process_executor.py:700: UserWarning: A worker stopped while some jobs were given to the executor. This can be caused by a too short worker timeout or by a memory leak.\n",
            "  warnings.warn(\n"
          ]
        },
        {
          "output_type": "execute_result",
          "data": {
            "text/plain": [
              "GridSearchCV(cv=5, estimator=DecisionTreeClassifier(random_state=0), n_jobs=-1,\n",
              "             param_grid={'max_depth': range(1, 100),\n",
              "                         'max_features': range(1, 19)},\n",
              "             verbose=True)"
            ]
          },
          "metadata": {},
          "execution_count": 47
        }
      ]
    },
    {
      "cell_type": "code",
      "source": [
        "# Find optimal parameter\n",
        "treeDepthRange = list(range(1, 70))\n",
        "cv_scores_mean, cv_scores_std, accuracy_scores = run_cross_validation_on_trees(x_train_s, y_train_s, treeDepthRange, scoring = 'accuracy')\n",
        "plot_cross_validation_on_trees(treeDepthRange, cv_scores_mean, cv_scores_std, accuracy_scores, 'tree')\n",
        "print(cv_scores_mean)"
      ],
      "metadata": {
        "id": "0KY5gscfvUdX",
        "colab": {
          "base_uri": "https://localhost:8080/",
          "height": 564
        },
        "outputId": "4cfe96de-20e3-49eb-8585-cf91609a3653"
      },
      "execution_count": null,
      "outputs": [
        {
          "output_type": "stream",
          "name": "stdout",
          "text": [
            "[0.         0.02083333 0.03333333 0.04479167 0.08541667 0.08697917\n",
            " 0.09244792 0.10885417 0.12239583 0.13671875 0.153125   0.17161458\n",
            " 0.17552083 0.18541667 0.19973958 0.2078125  0.21484375 0.21770833\n",
            " 0.22604167 0.23802083 0.24609375 0.24401042 0.25833333 0.25755208\n",
            " 0.26145833 0.271875   0.27395833 0.27760417 0.28255208 0.27604167\n",
            " 0.28177083 0.28932292 0.28671875 0.29401042 0.28802083 0.29192708\n",
            " 0.29661458 0.29973958 0.29244792 0.30026042 0.29713542 0.30208333\n",
            " 0.29947917 0.30651042 0.30182292 0.30572917 0.30052083 0.31145833\n",
            " 0.309375   0.30208333 0.30651042 0.31328125 0.309375   0.30755208\n",
            " 0.31067708 0.30859375 0.31276042 0.30807292 0.30911458 0.30130208\n",
            " 0.30859375 0.30963542 0.30911458 0.30885417 0.30390625 0.31328125\n",
            " 0.3078125  0.30911458 0.30807292]\n"
          ]
        },
        {
          "output_type": "display_data",
          "data": {
            "text/plain": [
              "<Figure size 1080x360 with 1 Axes>"
            ],
            "image/png": "[encoded data removed]"
          },
          "metadata": {
            "needs_background": "light"
          }
        }
      ]
    },
    {
      "cell_type": "markdown",
      "source": [
        "So, we found that max_depth = 66 and its score is 0.3132."
      ],
      "metadata": {
        "id": "4OaiZGbGpAqL"
      }
    },
    {
      "cell_type": "code",
      "source": [
        "# DTC training with max_depth = 66\n",
        "dtc_opti = DecisionTreeClassifier(random_state=0,max_depth=66)\n",
        "\n",
        "#Create pipeline\n",
        "pipe_dtc_classifier_opti =Pipeline([('vectorizer',tfidf_vector),\n",
        "                              ('classifier', dtc_opti)])\n",
        "\n",
        "#Fit model on training set\n",
        "pipe_dtc_classifier_opti.fit(X_train,y_train)"
      ],
      "metadata": {
        "id": "WikwwKnmLwhy",
        "colab": {
          "base_uri": "https://localhost:8080/"
        },
        "outputId": "bdbf679e-b665-406b-a859-360fe76dffed"
      },
      "execution_count": null,
      "outputs": [
        {
          "output_type": "execute_result",
          "data": {
            "text/plain": [
              "Pipeline(steps=[('vectorizer',\n",
              "                 TfidfVectorizer(tokenizer=<function spacy_tokenizer at 0x7f5892d4d820>)),\n",
              "                ('classifier',\n",
              "                 DecisionTreeClassifier(max_depth=66, random_state=0))])"
            ]
          },
          "metadata": {},
          "execution_count": 77
        }
      ]
    },
    {
      "cell_type": "code",
      "source": [
        "#Test accuracy\n",
        "y_pred_dtc_opti = pipe_dtc_classifier_opti.predict(X_test)\n",
        "acc_test_dtc_opti = accuracy_score(y_test, y_pred_dtc_opti)\n",
        "\n",
        "#Train accuracy\n",
        "y_pred_train_dtc_opti = pipe_dtc_classifier_opti.predict(X_train)\n",
        "acc_train_dtc_opti = accuracy_score(y_train,y_pred_train_dtc_opti)\n",
        "\n",
        "#Precision\n",
        "precision_dtc_opti = precision_score(y_test, y_pred_dtc_opti, average='weighted')\n",
        "\n",
        "#Recall\n",
        "recall_dtc_opti = recall_score(y_test, y_pred_dtc_opti, average='weighted')\n",
        "\n",
        "#F1-Score\n",
        "f1_dtc_opti = f1_score(y_test, y_pred_dtc_opti, average='weighted')\n",
        "\n",
        "print(\"For decision tree with max_depth optimised : \\n\")\n",
        "print(\"Test accuracy : \", acc_test_dtc_opti*100)\n",
        "print(\"Train accuracy : \", acc_train_dtc_opti*100)\n",
        "print(\"Precision : \", precision_dtc_opti*100)\n",
        "print(\"Recall : \", recall_dtc_opti*100)\n",
        "print(\"F1_score : \", f1_dtc_opti*100)"
      ],
      "metadata": {
        "id": "ARyyRhDeMKD9",
        "colab": {
          "base_uri": "https://localhost:8080/"
        },
        "outputId": "08a7614d-3523-4c60-8e6c-58431d1b6fda"
      },
      "execution_count": null,
      "outputs": [
        {
          "output_type": "stream",
          "name": "stdout",
          "text": [
            "For decision tree with max_depth optimised : \n",
            "\n",
            "Test accuracy :  29.895833333333332\n",
            "Train accuracy :  99.84375\n",
            "Precision :  29.846098961246735\n",
            "Recall :  29.895833333333332\n",
            "F1_score :  29.667672002348617\n"
          ]
        }
      ]
    },
    {
      "cell_type": "markdown",
      "source": [
        "#### 4.4.3 Have a look at the confusion matrix."
      ],
      "metadata": {
        "id": "guR-jgicfIyF"
      }
    },
    {
      "cell_type": "code",
      "source": [
        "conf_matrix_dtc = confusion_matrix(y_test,y_pred_dtc_opti)\n",
        "\n",
        "print(\"Confusion matrix with decision tree : \\n\", conf_matrix_dtc)"
      ],
      "metadata": {
        "id": "XV3EbU2qNLdD",
        "colab": {
          "base_uri": "https://localhost:8080/"
        },
        "outputId": "f9883e50-071e-42eb-9cbe-10ccab515d36"
      },
      "execution_count": null,
      "outputs": [
        {
          "output_type": "stream",
          "name": "stdout",
          "text": [
            "Confusion matrix with decision tree : \n",
            " [[78 39 17 14  3 10]\n",
            " [43 46 45 17  6  7]\n",
            " [33 21 36 33 20 17]\n",
            " [12 15 26 41 28 22]\n",
            " [13 21 14 51 37 37]\n",
            " [15 16 22 25 37 43]]\n"
          ]
        }
      ]
    },
    {
      "cell_type": "markdown",
      "source": [
        "#### 4.4.4 Generate our predictions"
      ],
      "metadata": {
        "id": "YY4A-ilkhzTR"
      }
    },
    {
      "cell_type": "code",
      "source": [
        "y_sub_pred_dtc = pipe_dtc_classifier_opti.predict(X_sub_test)\n",
        "\n",
        "submission_result= {'id': df_pred[\"id\"],\n",
        "                    \"difficulty\": y_sub_pred_dtc}\n",
        "submission_result_table=pd.DataFrame(data=submission_result)\n",
        "submission_result_table.head(1200)\n",
        "\n",
        "submission_result_table.to_csv(\"UNIL_Orange_dtc.csv\",sep=',',index=False)"
      ],
      "metadata": {
        "id": "ArcrQdLVNYTY"
      },
      "execution_count": null,
      "outputs": []
    },
    {
      "cell_type": "markdown",
      "metadata": {
        "id": "M52Ys3hcq7ku"
      },
      "source": [
        "#### 4.5. Random Forest Classifier \n",
        "\n",
        "Try a Random Forest Classifier, using a Tfidf vectoriser. Show the accuracy, precision, recall and F1 score on the test set."
      ]
    },
    {
      "cell_type": "code",
      "source": [
        "# import random forest packages\n",
        "from sklearn.ensemble import RandomForestClassifier\n",
        "from sklearn.model_selection import cross_val_score\n",
        "from sklearn.model_selection import RandomizedSearchCV"
      ],
      "metadata": {
        "id": "N7R2gTaIvHgF"
      },
      "execution_count": null,
      "outputs": []
    },
    {
      "cell_type": "markdown",
      "source": [
        "#### 4.5.1 With tf-idf, we are using a pipeline"
      ],
      "metadata": {
        "id": "Qc5YbL7ofpBT"
      }
    },
    {
      "cell_type": "code",
      "source": [
        "# Random Forest training\n",
        "rfc = RandomForestClassifier()\n",
        "\n",
        "random_grid = {'n_estimators': np.arange(1,15),\n",
        "               'max_features': ['auto', 'sqrt'],\n",
        "               'min_samples_split': [2, 5, 10],\n",
        "               'min_samples_leaf': [1, 2, 4],\n",
        "               'bootstrap': [True, False]}\n",
        "\n",
        "rfc_random = RandomizedSearchCV(estimator = rfc, param_distributions = random_grid, \n",
        "                               n_iter = 10, cv = 5, verbose=2, random_state=0, \n",
        "                               n_jobs = -1)\n",
        "\n",
        "#Create pipeline\n",
        "pipe_rfc_classifier =Pipeline([('vectorizer',tfidf_vector),\n",
        "                              ('classifier', rfc_random)])\n",
        "#Fit model on training set\n",
        "pipe_rfc_classifier.fit(X_train,y_train)"
      ],
      "metadata": {
        "id": "aGASSRa8vFR-",
        "colab": {
          "base_uri": "https://localhost:8080/"
        },
        "outputId": "6ae8638f-39db-4e0a-b99a-24c921405c29"
      },
      "execution_count": null,
      "outputs": [
        {
          "output_type": "stream",
          "name": "stdout",
          "text": [
            "Fitting 5 folds for each of 10 candidates, totalling 50 fits\n"
          ]
        },
        {
          "output_type": "execute_result",
          "data": {
            "text/plain": [
              "Pipeline(steps=[('vectorizer',\n",
              "                 TfidfVectorizer(tokenizer=<function spacy_tokenizer at 0x7f5892d4d820>)),\n",
              "                ('classifier',\n",
              "                 RandomizedSearchCV(cv=5, estimator=RandomForestClassifier(),\n",
              "                                    n_jobs=-1,\n",
              "                                    param_distributions={'bootstrap': [True,\n",
              "                                                                       False],\n",
              "                                                         'max_features': ['auto',\n",
              "                                                                          'sqrt'],\n",
              "                                                         'min_samples_leaf': [1,\n",
              "                                                                              2,\n",
              "                                                                              4],\n",
              "                                                         'min_samples_split': [2,\n",
              "                                                                               5,\n",
              "                                                                               10],\n",
              "                                                         'n_estimators': array([ 1,  2,  3,  4,  5,  6,  7,  8,  9, 10, 11, 12, 13, 14])},\n",
              "                                    random_state=0, verbose=2))])"
            ]
          },
          "metadata": {},
          "execution_count": 54
        }
      ]
    },
    {
      "cell_type": "code",
      "source": [
        "#Train accuracy\n",
        "y_pred_train_rfc = pipe_rfc_classifier.predict(X_train)\n",
        "acc_train_rfc = accuracy_score(y_train,y_pred_train_rfc)\n",
        "\n",
        "#Test accuracy\n",
        "y_pred_rfc = pipe_rfc_classifier.predict(X_test)\n",
        "acc_test_rfc = accuracy_score(y_test, y_pred_rfc)\n",
        "\n",
        "#Precision\n",
        "precision_rfc= precision_score(y_test, y_pred_rfc, average='weighted')\n",
        "\n",
        "#Recall\n",
        "recall_rfc = recall_score(y_test, y_pred_rfc, average='weighted')\n",
        "\n",
        "#F1-Score\n",
        "f1_rfc = f1_score(y_test, y_pred_rfc, average='weighted')\n",
        "\n",
        "print (\"For random Forest forest : \\n\")\n",
        "print(\"Test accuracy: \",acc_test_rfc*100)\n",
        "print(\"Train accuracy: \",acc_train_rfc*100)\n",
        "print(\"Precision: \", precision_rfc*100)\n",
        "print(\"recall: \",recall_rfc*100 )\n",
        "print(\"F1-score: \",f1_rfc*100)"
      ],
      "metadata": {
        "colab": {
          "base_uri": "https://localhost:8080/"
        },
        "id": "HngFy0mPyEyy",
        "outputId": "eb02dc45-9f28-4654-8547-daf074976223"
      },
      "execution_count": null,
      "outputs": [
        {
          "output_type": "stream",
          "name": "stdout",
          "text": [
            "For random Forest forest : \n",
            "\n",
            "Test accuracy:  35.3125\n",
            "Train accuracy:  81.84895833333333\n",
            "Precision:  34.570649731966135\n",
            "recall:  35.3125\n",
            "F1-score:  34.22933423828376\n"
          ]
        }
      ]
    },
    {
      "cell_type": "markdown",
      "source": [
        "#### 4.5.2 Try to improve it by tuning the hyper parameters (`n_estimators`, `min_samples_split`, `min_samples_leaf`, `max_features`, `bootstrap`)."
      ],
      "metadata": {
        "id": "4mJat1Tdgb4d"
      }
    },
    {
      "cell_type": "code",
      "source": [
        "rfc_random.best_params_"
      ],
      "metadata": {
        "id": "6BQYUvQq1sS8",
        "colab": {
          "base_uri": "https://localhost:8080/"
        },
        "outputId": "e2364a1c-0cc5-45b9-f9b8-1ce8aa10c840"
      },
      "execution_count": null,
      "outputs": [
        {
          "output_type": "execute_result",
          "data": {
            "text/plain": [
              "{'n_estimators': 11,\n",
              " 'min_samples_split': 5,\n",
              " 'min_samples_leaf': 2,\n",
              " 'max_features': 'auto',\n",
              " 'bootstrap': False}"
            ]
          },
          "metadata": {},
          "execution_count": 56
        }
      ]
    },
    {
      "cell_type": "code",
      "source": [
        "rfc_opti = RandomForestClassifier(n_estimators=11, min_samples_split=10, min_samples_leaf=1, max_features='sqrt',bootstrap=False)\n",
        "\n",
        "#Create pipeline\n",
        "pipe_rfc_classifier_opti =Pipeline([('vectorizer',tfidf_vector),\n",
        "                              ('classifier', rfc_opti)])\n",
        "#Fit model on training set\n",
        "pipe_rfc_classifier_opti.fit(X_train,y_train)"
      ],
      "metadata": {
        "id": "tNfoprMT36uy",
        "colab": {
          "base_uri": "https://localhost:8080/"
        },
        "outputId": "0dcbda5b-32ca-472a-a314-41653f099cd7"
      },
      "execution_count": null,
      "outputs": [
        {
          "output_type": "execute_result",
          "data": {
            "text/plain": [
              "Pipeline(steps=[('vectorizer',\n",
              "                 TfidfVectorizer(tokenizer=<function spacy_tokenizer at 0x7f5892d4d820>)),\n",
              "                ('classifier',\n",
              "                 RandomForestClassifier(bootstrap=False, max_features='sqrt',\n",
              "                                        min_samples_split=10,\n",
              "                                        n_estimators=11))])"
            ]
          },
          "metadata": {},
          "execution_count": 57
        }
      ]
    },
    {
      "cell_type": "code",
      "execution_count": null,
      "metadata": {
        "id": "sssF4NIGrNLa",
        "colab": {
          "base_uri": "https://localhost:8080/"
        },
        "outputId": "aba06e54-40f4-4c5d-eba2-539b9b9fb261"
      },
      "outputs": [
        {
          "output_type": "stream",
          "name": "stdout",
          "text": [
            "For random Forest forest with hyperparameters : \n",
            "\n",
            "Test accuracy:  38.333333333333336\n",
            "Train accuracy:  99.73958333333334\n",
            "Precision:  37.67377980085473\n",
            "recall:  38.333333333333336\n",
            "F1-score:  37.463524335603964\n"
          ]
        }
      ],
      "source": [
        "#Train accuracy\n",
        "y_pred_train_rfc_opti = pipe_rfc_classifier_opti.predict(X_train)\n",
        "acc_train_rfc_opti = accuracy_score(y_train,y_pred_train_rfc_opti)\n",
        "\n",
        "#Test accuracy\n",
        "y_pred_rfc_opti = pipe_rfc_classifier_opti.predict(X_test)\n",
        "acc_test_rfc_opti = accuracy_score(y_test, y_pred_rfc_opti)\n",
        "\n",
        "#Precision\n",
        "precision_rfc_opti = precision_score(y_test, y_pred_rfc_opti, average='weighted')\n",
        "\n",
        "#Recall\n",
        "recall_rfc_opti = recall_score(y_test, y_pred_rfc_opti, average='weighted')\n",
        "\n",
        "#F1-Score\n",
        "f1_rfc_opti = f1_score(y_test, y_pred_rfc_opti, average='weighted')\n",
        "\n",
        "print (\"For random Forest forest with hyperparameters : \\n\")\n",
        "print(\"Test accuracy: \",acc_test_rfc_opti*100)\n",
        "print(\"Train accuracy: \",acc_train_rfc_opti*100)\n",
        "print(\"Precision: \", precision_rfc_opti*100)\n",
        "print(\"recall: \",recall_rfc_opti*100 )\n",
        "print(\"F1-score: \",f1_rfc_opti*100)"
      ]
    },
    {
      "cell_type": "markdown",
      "source": [
        "#### 4.5.3 Have a look at the confusion matrix."
      ],
      "metadata": {
        "id": "38urNN4EhBom"
      }
    },
    {
      "cell_type": "code",
      "source": [
        "conf_matrix_rfc = confusion_matrix(y_test,y_pred_rfc_opti)\n",
        "\n",
        "print(\"Confusion matrix with decision tree : \\n\", conf_matrix_rfc)"
      ],
      "metadata": {
        "id": "qcLkyoVWD0sR",
        "colab": {
          "base_uri": "https://localhost:8080/"
        },
        "outputId": "67dac607-e54c-4c83-e2e6-973805e7c640"
      },
      "execution_count": null,
      "outputs": [
        {
          "output_type": "stream",
          "name": "stdout",
          "text": [
            "Confusion matrix with decision tree : \n",
            " [[113  19  13  12   1   3]\n",
            " [ 61  51  31  11   7   3]\n",
            " [ 38  29  39  27  12  15]\n",
            " [  7  14  21  46  28  28]\n",
            " [  7   6  14  46  60  40]\n",
            " [  9  17  10  26  37  59]]\n"
          ]
        }
      ]
    },
    {
      "cell_type": "markdown",
      "source": [
        "#### 4.5.4 Generate our predictions"
      ],
      "metadata": {
        "id": "Yz-D-oiLh4Y8"
      }
    },
    {
      "cell_type": "code",
      "source": [
        "y_sub_pred_rfc = pipe_rfc_classifier_opti.predict(X_sub_test)\n",
        "\n",
        "submission_result= {'id': df_pred[\"id\"],\n",
        "                    \"difficulty\": y_sub_pred_rfc}\n",
        "submission_result_table=pd.DataFrame(data=submission_result)\n",
        "submission_result_table.head(1200)\n",
        "\n",
        "submission_result_table.to_csv(\"UNIL_Orange_rfc.csv\",sep=',',index=False)"
      ],
      "metadata": {
        "id": "6KARufX3Sq3V"
      },
      "execution_count": null,
      "outputs": []
    },
    {
      "cell_type": "markdown",
      "metadata": {
        "id": "z-8_3MK1rpZr"
      },
      "source": [
        "#### 4.6. Any other technique, including data cleaning if necessary"
      ]
    },
    {
      "cell_type": "markdown",
      "source": [
        "Try to improve accuracy by training a better model using the techniques seen in class, or combinations of them.\n",
        "\n",
        "As usual, show the accuracy, precision, recall and f1 score on the test set."
      ],
      "metadata": {
        "id": "hLLBXpPWhTHR"
      }
    },
    {
      "cell_type": "markdown",
      "source": [
        "#### 4.6.1 : Support Vector Classifier"
      ],
      "metadata": {
        "id": "cxqtGVGMpF1W"
      }
    },
    {
      "cell_type": "code",
      "source": [
        "# import Support Vector Classifier model\n",
        "from sklearn.svm import SVC \n",
        "\n",
        "# creat model's object\n",
        "svc = SVC(kernel = 'rbf', random_state = 0,probability=True) "
      ],
      "metadata": {
        "id": "rFNWm3hWPGar"
      },
      "execution_count": null,
      "outputs": []
    },
    {
      "cell_type": "code",
      "execution_count": null,
      "metadata": {
        "id": "wX5AjvvKr_nW",
        "colab": {
          "base_uri": "https://localhost:8080/"
        },
        "outputId": "ab224f41-4316-4fc9-8fd7-906d7e905379"
      },
      "outputs": [
        {
          "output_type": "execute_result",
          "data": {
            "text/plain": [
              "Pipeline(steps=[('vectorizer',\n",
              "                 TfidfVectorizer(tokenizer=<function spacy_tokenizer at 0x7f5892d4d820>)),\n",
              "                ('classifier', SVC(probability=True, random_state=0))])"
            ]
          },
          "metadata": {},
          "execution_count": 62
        }
      ],
      "source": [
        "#create a pipeline\n",
        "pipe_svc_classifier =Pipeline([('vectorizer',tfidf_vector),\n",
        "                              ('classifier', svc)])\n",
        "\n",
        "#Fit model on training set\n",
        "pipe_svc_classifier.fit(X_train,y_train)"
      ]
    },
    {
      "cell_type": "code",
      "source": [
        "#Test accuracy\n",
        "y_pred_svc = pipe_svc_classifier.predict(X_test)\n",
        "acc_test_svc = accuracy_score(y_test, y_pred_svc)\n",
        "\n",
        "#Train accuracy\n",
        "y_pred_train_svc = pipe_svc_classifier.predict(X_train)\n",
        "acc_train_svc = accuracy_score(y_train,y_pred_train_svc)\n",
        "\n",
        "#Precision\n",
        "precision_svc = precision_score(y_test, y_pred_svc, average='weighted')\n",
        "\n",
        "#Recall\n",
        "recall_svc = recall_score(y_test, y_pred_svc, average='weighted')\n",
        "\n",
        "#F1-Score\n",
        "f1_svc = f1_score(y_test, y_pred_svc, average='weighted')\n",
        "\n",
        "print(\"For SVC :\\n\")\n",
        "print(\"Test accuracy:\", acc_test_svc*100)\n",
        "print(\"Train accuracy:\", acc_train_svc*100)\n",
        "print(\"precison: \", precision_svc*100)\n",
        "print(\"Recall: \",recall_svc*100)\n",
        "print(\"F1-score: \",f1_svc*100)"
      ],
      "metadata": {
        "id": "R5q3BWEfwYak",
        "colab": {
          "base_uri": "https://localhost:8080/"
        },
        "outputId": "95fbd930-9a49-4e59-f42b-a60e8334ae57"
      },
      "execution_count": null,
      "outputs": [
        {
          "output_type": "stream",
          "name": "stdout",
          "text": [
            "For SVC :\n",
            "\n",
            "Test accuracy: 47.604166666666664\n",
            "Train accuracy: 97.65625\n",
            "precison:  47.82714673397124\n",
            "Recall:  47.604166666666664\n",
            "F1-score:  47.48061677206277\n"
          ]
        }
      ]
    },
    {
      "cell_type": "code",
      "source": [
        "conf_matrix_svc = confusion_matrix(y_test,y_pred_svc)\n",
        "\n",
        "print(\"Confusion matrix with decision tree : \\n\", conf_matrix_svc)"
      ],
      "metadata": {
        "id": "tv-gnnnlEABP",
        "colab": {
          "base_uri": "https://localhost:8080/"
        },
        "outputId": "1de88331-d8c6-4551-be23-be94ea99f43b"
      },
      "execution_count": null,
      "outputs": [
        {
          "output_type": "stream",
          "name": "stdout",
          "text": [
            "Confusion matrix with decision tree : \n",
            " [[100  26  15  12   4   4]\n",
            " [ 47  66  30  10   7   4]\n",
            " [ 13  24  76  24  11  12]\n",
            " [  6   9  15  67  22  25]\n",
            " [  5   4  12  46  68  38]\n",
            " [  8   8  11  20  31  80]]\n"
          ]
        }
      ]
    },
    {
      "cell_type": "code",
      "source": [
        "y_sub_pred_svc = pipe_svc_classifier.predict(X_sub_test)\n",
        "\n",
        "submission_result= {'id': df_pred[\"id\"],\n",
        "                    \"difficulty\": y_sub_pred_svc}\n",
        "submission_result_table=pd.DataFrame(data=submission_result)\n",
        "submission_result_table.head(1200)\n",
        "\n",
        "submission_result_table.to_csv(\"UNIL_Orange_svc.csv\",sep=',',index=False)"
      ],
      "metadata": {
        "id": "SRYl--hGNgS0"
      },
      "execution_count": null,
      "outputs": []
    },
    {
      "cell_type": "markdown",
      "source": [
        "#### 4.6.2 : Combination of our best models"
      ],
      "metadata": {
        "id": "2NXSe4xOqhLe"
      }
    },
    {
      "cell_type": "markdown",
      "source": [
        "In order, to improve our model we try to combine our best model : SVC and Logistic Regression; to do that we use Voting Classifier."
      ],
      "metadata": {
        "id": "SW1g4QAtpiLV"
      }
    },
    {
      "cell_type": "code",
      "source": [
        "from sklearn.ensemble import VotingClassifier\n",
        "\n",
        "# The ensemble is a voting classifier that aggregates our three models\n",
        "voting_clf = VotingClassifier(estimators=[('svc', pipe_svc_classifier), ('log', pipe_log_reg_classifier)], \n",
        "                             voting='hard')\n",
        "\n",
        "# training\n",
        "voting_clf.fit(X_train, y_train) \n",
        "\n",
        "# predicting\n",
        "y_pred_voting = voting_clf.predict(X_test) \n",
        "y_pred_train_voting = voting_clf.predict(X_train)\n",
        "\n",
        "#test accuracy\n",
        "acc_test_voting=accuracy_score(y_test, y_pred_voting) \n",
        "\n",
        "#train accuracy\n",
        "acc_train_voting=accuracy_score(y_train, y_pred_train_voting) \n",
        "\n",
        "#precision\n",
        "precision_voting=precision_score(y_test, y_pred_voting, average='weighted')\n",
        "\n",
        "#recall\n",
        "recall_voting=recall_score(y_test,y_pred_voting, average='weighted')\n",
        "\n",
        "#F1-Score\n",
        "f1_voting=f1_score(y_test,y_pred_voting, average='weighted')\n",
        "\n",
        "print(\"For combination of SVC and logistic regression :\\n\")\n",
        "print(\"Test accuracy:\", acc_test_voting*100)\n",
        "print(\"Train accuracy:\", acc_train_voting*100)\n",
        "print(\"precison: \", precision_voting*100)\n",
        "print(\"Recall: \",recall_voting*100)\n",
        "print(\"F1-score: \",f1_voting*100)"
      ],
      "metadata": {
        "id": "XrJqkzvVgN2l",
        "colab": {
          "base_uri": "https://localhost:8080/"
        },
        "outputId": "28c97082-5c8e-42fc-afb0-16145c442ab1"
      },
      "execution_count": null,
      "outputs": [
        {
          "output_type": "stream",
          "name": "stdout",
          "text": [
            "For combination of SVC and logistic regression :\n",
            "\n",
            "Test accuracy: 46.458333333333336\n",
            "Train accuracy: 90.75520833333334\n",
            "precison:  46.54305951575122\n",
            "Recall:  46.458333333333336\n",
            "F1-score:  46.165376388132735\n"
          ]
        }
      ]
    },
    {
      "cell_type": "code",
      "source": [
        "y_sub_pred_voting = voting_clf.predict(X_sub_test)\n",
        "\n",
        "submission_result= {'id': df_pred[\"id\"],\n",
        "                    \"difficulty\": y_sub_pred_voting}\n",
        "submission_result_table=pd.DataFrame(data=submission_result)\n",
        "submission_result_table.head(1200)\n",
        "\n",
        "submission_result_table.to_csv(\"UNIL_Orange_voting.csv\",sep=',',index=False)"
      ],
      "metadata": {
        "id": "Csw2L-I1sUI0"
      },
      "execution_count": null,
      "outputs": []
    },
    {
      "cell_type": "markdown",
      "source": [
        "## 4.7 Data embeddings"
      ],
      "metadata": {
        "id": "dTkS5OSlJsNi"
      }
    },
    {
      "cell_type": "code",
      "source": [
        "#data embeddings\n",
        "\n",
        "with sp.disable_pipes():\n",
        "  vectors=np.array([sp(df.sentence).vector for idx, df in df.iterrows()])\n",
        "\n",
        "#Train Test split with data embeddings\n",
        "X_train_v, X_test_v, y_train_v, y_test_v = train_test_split(vectors, y, shuffle=True, test_size=0.2, random_state=0)\n",
        "\n",
        "print(vectors)"
      ],
      "metadata": {
        "id": "5Og_dog1JNv7",
        "colab": {
          "base_uri": "https://localhost:8080/"
        },
        "outputId": "da37a2db-811f-4edd-d769-8a9c411fd7d2"
      },
      "execution_count": null,
      "outputs": [
        {
          "output_type": "stream",
          "name": "stdout",
          "text": [
            "[[ 2.5883105  -0.33783805  0.13447323 ...  0.97380996  1.1547624\n",
            "  -1.078923  ]\n",
            " [ 0.94273067 -0.6742985   0.15778159 ... -0.28917786 -0.03423569\n",
            "  -0.666285  ]\n",
            " [ 2.7945724  -0.1999102  -0.97981477 ...  0.7726029   0.32259616\n",
            "  -1.3696183 ]\n",
            " ...\n",
            " [ 1.488277    0.5429954   0.9237242  ... -0.18500942  0.7239595\n",
            "  -1.2453126 ]\n",
            " [ 2.4329228   0.22139306  0.1050107  ...  0.14463039  0.52459884\n",
            "  -1.0780774 ]\n",
            " [ 1.0723747   0.2760727  -0.21915495 ... -0.54481524  1.5861492\n",
            "  -0.5349116 ]]\n"
          ]
        }
      ]
    },
    {
      "cell_type": "markdown",
      "source": [
        "Logistic regression with data embeddings"
      ],
      "metadata": {
        "id": "AtX3OaSgM4_e"
      }
    },
    {
      "cell_type": "code",
      "source": [
        "#Fit model on training set, with data embeddings\n",
        "log_reg_classifier.fit(X_train_v,y_train_v)"
      ],
      "metadata": {
        "colab": {
          "base_uri": "https://localhost:8080/"
        },
        "id": "86RxAr8ONOGH",
        "outputId": "065c13f8-a6d2-4e4a-ee1e-96ce53dcdaf2"
      },
      "execution_count": null,
      "outputs": [
        {
          "output_type": "stream",
          "name": "stderr",
          "text": [
            "/usr/local/lib/python3.8/dist-packages/sklearn/linear_model/_logistic.py:814: ConvergenceWarning: lbfgs failed to converge (status=1):\n",
            "STOP: TOTAL NO. of ITERATIONS REACHED LIMIT.\n",
            "\n",
            "Increase the number of iterations (max_iter) or scale the data as shown in:\n",
            "    https://scikit-learn.org/stable/modules/preprocessing.html\n",
            "Please also refer to the documentation for alternative solver options:\n",
            "    https://scikit-learn.org/stable/modules/linear_model.html#logistic-regression\n",
            "  n_iter_i = _check_optimize_result(\n"
          ]
        },
        {
          "output_type": "execute_result",
          "data": {
            "text/plain": [
              "LogisticRegression()"
            ]
          },
          "metadata": {},
          "execution_count": 79
        }
      ]
    },
    {
      "cell_type": "markdown",
      "source": [
        "Calculate accuracy, precision, recall and F1 score on the test set."
      ],
      "metadata": {
        "id": "JcGW53SkMAsM"
      }
    },
    {
      "cell_type": "code",
      "source": [
        "#Test accuracy\n",
        "y_pred_logreg_v = log_reg_classifier.predict(X_test_v)\n",
        "acc_test_logreg_v = accuracy_score(y_test_v, y_pred_logreg_v)\n",
        "\n",
        "#Train accuracy\n",
        "y_pred_train_logreg_v = log_reg_classifier.predict(X_train_v)\n",
        "acc_train_logreg_v = accuracy_score(y_train_v,y_pred_train_logreg_v)\n",
        "\n",
        "#Precision\n",
        "precision_logreg = precision_score(y_test_v, y_pred_logreg_v, average='macro')\n",
        "\n",
        "#Recall\n",
        "recall_logreg = recall_score(y_test_v, y_pred_logreg_v, average='macro')\n",
        "\n",
        "#F1-Score\n",
        "f1_logreg = f1_score(y_test_v, y_pred_logreg_v, average='macro')\n",
        "\n",
        "print(\"For Logistic Regression, with vectors :\")\n",
        "print(\"Test accuracy :\", acc_test_logreg*100)\n",
        "print(\"Train accuracy :\", acc_train_logreg*100)\n",
        "print(\"Precision :\", precision_logreg*100)\n",
        "print(\"Recall :\", recall_logreg*100)\n",
        "print(\"F1-score :\", f1_logreg*100)"
      ],
      "metadata": {
        "colab": {
          "base_uri": "https://localhost:8080/"
        },
        "id": "i9DILEKRHjKM",
        "outputId": "ab97eea9-fd60-495d-b5e0-f6aff963632c"
      },
      "execution_count": null,
      "outputs": [
        {
          "output_type": "stream",
          "name": "stdout",
          "text": [
            "For Logistic Regression, with vectors :\n",
            "Test accuracy : 46.458333333333336\n",
            "Train accuracy : 84.140625\n",
            "Precision : 40.394402255739564\n",
            "Recall : 40.591058367706836\n",
            "F1-score : 40.23201226803402\n"
          ]
        }
      ]
    },
    {
      "cell_type": "markdown",
      "source": [
        "We are noting that our results are significantly not better with text embeddings than with pipeline. None results changed expect training accuracy. So we won't apply further this method."
      ],
      "metadata": {
        "id": "wF-6c0wWtsk_"
      }
    },
    {
      "cell_type": "markdown",
      "metadata": {
        "id": "82FvnJycsBFf"
      },
      "source": [
        "#### 4.8. Show a summary of your results"
      ]
    },
    {
      "cell_type": "code",
      "source": [
        "table_test= {'Model': ['Logistic regression', 'KNN', 'Decsision tree',\"Random Forest\",\"SVC\", \"Combination of SVC and Log regression\"],\n",
        "             'test accuracy': [acc_test_logreg*100,acc_test_knn_opti*100 ,acc_test_dtc_opti*100,acc_test_rfc_opti*100,acc_test_svc*100,acc_test_voting*100],\n",
        "             'train accuracy':[acc_train_logreg*100,acc_train_knn_opti*100,acc_train_dtc_opti*100,acc_train_rfc_opti*100,acc_train_svc*100,acc_train_voting*100],\n",
        "             'precision': [precision_logreg*100,precision_knn_opti*100,precision_dtc_opti*100,precision_rfc_opti*100,precision_svc*100, precision_voting*100],\n",
        "             'recall': [recall_logreg*100,recall_knn_opti*100,recall_dtc_opti*100,recall_rfc_opti*100,recall_svc*100,recall_voting*100],\n",
        "             'F1-Score':[f1_logreg*100,f1_knn_opti*100,f1_dtc_opti*100,f1_rfc_opti*100,f1_svc*100,f1_voting*100]\n",
        "             }\n",
        "comp_table_test=pd.DataFrame(table_test)\n",
        "comp_table_test"
      ],
      "metadata": {
        "id": "AcR9PWpElwK_",
        "colab": {
          "base_uri": "https://localhost:8080/",
          "height": 238
        },
        "outputId": "60f0de72-a124-41f2-f27d-d215833f1180"
      },
      "execution_count": null,
      "outputs": [
        {
          "output_type": "execute_result",
          "data": {
            "text/plain": [
              "                                   Model  test accuracy  train accuracy  \\\n",
              "0                    Logistic regression      46.458333       84.140625   \n",
              "1                                    KNN      34.895833       99.843750   \n",
              "2                         Decsision tree      29.270833       97.864583   \n",
              "3                          Random Forest      38.333333       99.739583   \n",
              "4                                    SVC      47.604167       97.656250   \n",
              "5  Combination of SVC and Log regression      46.458333       90.755208   \n",
              "\n",
              "   precision     recall   F1-Score  \n",
              "0  40.394402  40.591058  40.232012  \n",
              "1  39.972950  34.849586  33.537359  \n",
              "2  29.157923  29.270833  28.986279  \n",
              "3  37.673780  38.333333  37.463524  \n",
              "4  47.827147  47.604167  47.480617  \n",
              "5  46.543060  46.458333  46.165376  "
            ],
            "text/html": [
              "\n",
              "  <div id=\"df-9c9c658b-e0db-4a27-86ea-d3298554a80c\">\n",
              "    <div class=\"colab-df-container\">\n",
              "      <div>\n",
              "<style scoped>\n",
              "    .dataframe tbody tr th:only-of-type {\n",
              "        vertical-align: middle;\n",
              "    }\n",
              "\n",
              "    .dataframe tbody tr th {\n",
              "        vertical-align: top;\n",
              "    }\n",
              "\n",
              "    .dataframe thead th {\n",
              "        text-align: right;\n",
              "    }\n",
              "</style>\n",
              "<table border=\"1\" class=\"dataframe\">\n",
              "  <thead>\n",
              "    <tr style=\"text-align: right;\">\n",
              "      <th></th>\n",
              "      <th>Model</th>\n",
              "      <th>test accuracy</th>\n",
              "      <th>train accuracy</th>\n",
              "      <th>precision</th>\n",
              "      <th>recall</th>\n",
              "      <th>F1-Score</th>\n",
              "    </tr>\n",
              "  </thead>\n",
              "  <tbody>\n",
              "    <tr>\n",
              "      <th>0</th>\n",
              "      <td>Logistic regression</td>\n",
              "      <td>46.458333</td>\n",
              "      <td>84.140625</td>\n",
              "      <td>40.394402</td>\n",
              "      <td>40.591058</td>\n",
              "      <td>40.232012</td>\n",
              "    </tr>\n",
              "    <tr>\n",
              "      <th>1</th>\n",
              "      <td>KNN</td>\n",
              "      <td>34.895833</td>\n",
              "      <td>99.843750</td>\n",
              "      <td>39.972950</td>\n",
              "      <td>34.849586</td>\n",
              "      <td>33.537359</td>\n",
              "    </tr>\n",
              "    <tr>\n",
              "      <th>2</th>\n",
              "      <td>Decsision tree</td>\n",
              "      <td>29.270833</td>\n",
              "      <td>97.864583</td>\n",
              "      <td>29.157923</td>\n",
              "      <td>29.270833</td>\n",
              "      <td>28.986279</td>\n",
              "    </tr>\n",
              "    <tr>\n",
              "      <th>3</th>\n",
              "      <td>Random Forest</td>\n",
              "      <td>38.333333</td>\n",
              "      <td>99.739583</td>\n",
              "      <td>37.673780</td>\n",
              "      <td>38.333333</td>\n",
              "      <td>37.463524</td>\n",
              "    </tr>\n",
              "    <tr>\n",
              "      <th>4</th>\n",
              "      <td>SVC</td>\n",
              "      <td>47.604167</td>\n",
              "      <td>97.656250</td>\n",
              "      <td>47.827147</td>\n",
              "      <td>47.604167</td>\n",
              "      <td>47.480617</td>\n",
              "    </tr>\n",
              "    <tr>\n",
              "      <th>5</th>\n",
              "      <td>Combination of SVC and Log regression</td>\n",
              "      <td>46.458333</td>\n",
              "      <td>90.755208</td>\n",
              "      <td>46.543060</td>\n",
              "      <td>46.458333</td>\n",
              "      <td>46.165376</td>\n",
              "    </tr>\n",
              "  </tbody>\n",
              "</table>\n",
              "</div>\n",
              "      <button class=\"colab-df-convert\" onclick=\"convertToInteractive('df-9c9c658b-e0db-4a27-86ea-d3298554a80c')\"\n",
              "              title=\"Convert this dataframe to an interactive table.\"\n",
              "              style=\"display:none;\">\n",
              "        \n",
              "  <svg xmlns=\"http://www.w3.org/2000/svg\" height=\"24px\"viewBox=\"0 0 24 24\"\n",
              "       width=\"24px\">\n",
              "    <path d=\"M0 0h24v24H0V0z\" fill=\"none\"/>\n",
              "    <path d=\"M18.56 5.44l.94 2.06.94-2.06 2.06-.94-2.06-.94-.94-2.06-.94 2.06-2.06.94zm-11 1L8.5 8.5l.94-2.06 2.06-.94-2.06-.94L8.5 2.5l-.94 2.06-2.06.94zm10 10l.94 2.06.94-2.06 2.06-.94-2.06-.94-.94-2.06-.94 2.06-2.06.94z\"/><path d=\"M17.41 7.96l-1.37-1.37c-.4-.4-.92-.59-1.43-.59-.52 0-1.04.2-1.43.59L10.3 9.45l-7.72 7.72c-.78.78-.78 2.05 0 2.83L4 21.41c.39.39.9.59 1.41.59.51 0 1.02-.2 1.41-.59l7.78-7.78 2.81-2.81c.8-.78.8-2.07 0-2.86zM5.41 20L4 18.59l7.72-7.72 1.47 1.35L5.41 20z\"/>\n",
              "  </svg>\n",
              "      </button>\n",
              "      \n",
              "  <style>\n",
              "    .colab-df-container {\n",
              "      display:flex;\n",
              "      flex-wrap:wrap;\n",
              "      gap: 12px;\n",
              "    }\n",
              "\n",
              "    .colab-df-convert {\n",
              "      background-color: #E8F0FE;\n",
              "      border: none;\n",
              "      border-radius: 50%;\n",
              "      cursor: pointer;\n",
              "      display: none;\n",
              "      fill: #1967D2;\n",
              "      height: 32px;\n",
              "      padding: 0 0 0 0;\n",
              "      width: 32px;\n",
              "    }\n",
              "\n",
              "    .colab-df-convert:hover {\n",
              "      background-color: #E2EBFA;\n",
              "      box-shadow: 0px 1px 2px rgba(60, 64, 67, 0.3), 0px 1px 3px 1px rgba(60, 64, 67, 0.15);\n",
              "      fill: #174EA6;\n",
              "    }\n",
              "\n",
              "    [theme=dark] .colab-df-convert {\n",
              "      background-color: #3B4455;\n",
              "      fill: #D2E3FC;\n",
              "    }\n",
              "\n",
              "    [theme=dark] .colab-df-convert:hover {\n",
              "      background-color: #434B5C;\n",
              "      box-shadow: 0px 1px 3px 1px rgba(0, 0, 0, 0.15);\n",
              "      filter: drop-shadow(0px 1px 2px rgba(0, 0, 0, 0.3));\n",
              "      fill: #FFFFFF;\n",
              "    }\n",
              "  </style>\n",
              "\n",
              "      <script>\n",
              "        const buttonEl =\n",
              "          document.querySelector('#df-9c9c658b-e0db-4a27-86ea-d3298554a80c button.colab-df-convert');\n",
              "        buttonEl.style.display =\n",
              "          google.colab.kernel.accessAllowed ? 'block' : 'none';\n",
              "\n",
              "        async function convertToInteractive(key) {\n",
              "          const element = document.querySelector('#df-9c9c658b-e0db-4a27-86ea-d3298554a80c');\n",
              "          const dataTable =\n",
              "            await google.colab.kernel.invokeFunction('convertToInteractive',\n",
              "                                                     [key], {});\n",
              "          if (!dataTable) return;\n",
              "\n",
              "          const docLinkHtml = 'Like what you see? Visit the ' +\n",
              "            '<a target=\"_blank\" href=https://colab.research.google.com/notebooks/data_table.ipynb>data table notebook</a>'\n",
              "            + ' to learn more about interactive tables.';\n",
              "          element.innerHTML = '';\n",
              "          dataTable['output_type'] = 'display_data';\n",
              "          await google.colab.output.renderOutput(dataTable, element);\n",
              "          const docLink = document.createElement('div');\n",
              "          docLink.innerHTML = docLinkHtml;\n",
              "          element.appendChild(docLink);\n",
              "        }\n",
              "      </script>\n",
              "    </div>\n",
              "  </div>\n",
              "  "
            ]
          },
          "metadata": {},
          "execution_count": 71
        }
      ]
    }
  ],
  "metadata": {
    "colab": {
      "provenance": [],
      "collapsed_sections": [
        "9-14CAdOoinM",
        "zx8UKoVNJ3ge",
        "SlvbPYa0k78l",
        "vUqLvfygNAha",
        "9D3_dp3apcmr",
        "9TTEiuXasNFg",
        "vXG_yIG_pQ8t",
        "q6pXOFhPMu37",
        "D6rH2Hx0qtB2",
        "G6Pah3cyesHA",
        "kAWiOXmMhlwr",
        "FFNH1WgNqc62",
        "jio3pbc6feT9",
        "yQHjvOp7q11L",
        "guR-jgicfIyF",
        "YY4A-ilkhzTR",
        "M52Ys3hcq7ku",
        "Qc5YbL7ofpBT",
        "4mJat1Tdgb4d",
        "38urNN4EhBom",
        "Yz-D-oiLh4Y8",
        "z-8_3MK1rpZr",
        "cxqtGVGMpF1W",
        "2NXSe4xOqhLe",
        "82FvnJycsBFf"
      ],
      "include_colab_link": true
    },
    "kernelspec": {
      "display_name": "Python 3 (ipykernel)",
      "language": "python",
      "name": "python3"
    },
    "language_info": {
      "codemirror_mode": {
        "name": "ipython",
        "version": 3
      },
      "file_extension": ".py",
      "mimetype": "text/x-python",
      "name": "python",
      "nbconvert_exporter": "python",
      "pygments_lexer": "ipython3",
      "version": "3.8.12"
    },
    "toc": {
      "base_numbering": 1,
      "nav_menu": {},
      "number_sections": true,
      "sideBar": true,
      "skip_h1_title": false,
      "title_cell": "Table of Contents",
      "title_sidebar": "Contents",
      "toc_cell": false,
      "toc_position": {},
      "toc_section_display": true,
      "toc_window_display": false
    }
  },
  "nbformat": 4,
  "nbformat_minor": 0
}